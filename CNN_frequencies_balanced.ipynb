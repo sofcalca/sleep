{
 "cells": [
  {
   "cell_type": "code",
   "execution_count": 1,
   "metadata": {
    "collapsed": false
   },
   "outputs": [
    {
     "name": "stderr",
     "output_type": "stream",
     "text": [
      "theano/tensor/signal/downsample.py:5: UserWarning: downsample module has been moved to the pool module.\n",
      "  warnings.warn(\"downsample module has been moved to the pool module.\")\n"
     ]
    }
   ],
   "source": [
    "from sys import platform as _platform\n",
    "%matplotlib inline\n",
    "import numpy as np\n",
    "import pandas as pd\n",
    "import matplotlib.pyplot as plt\n",
    "pd.set_option('display.max_columns', None)\n",
    "#if _platform =='linux2':\n",
    "#    path = '../data/data_sleep/' \n",
    "#else:\n",
    "#    #mets ton path ici et ça devrait marcher :)\n",
    "#    path = \"\"\n",
    "import theano\n",
    "import theano.tensor as T\n",
    "\n",
    "import lasagne\n",
    "path = \"./data/\""
   ]
  },
  {
   "cell_type": "code",
   "execution_count": 2,
   "metadata": {
    "collapsed": false
   },
   "outputs": [],
   "source": [
    "#frequencies=pd.read_csv(path+\"data_frequences.csv\").drop(\"Unnamed: 0\", axis=1)\n",
    "frequencies=pd.read_csv(path+\"fft_eeg.csv\")\n",
    "frequencies_acc =pd.read_csv(path+\"fft_acc.csv\", index_col=\"ID\")\n",
    "\n",
    "stats=pd.read_csv(path+\"data_stat_feats.csv\").drop(\"Unnamed: 0\", axis=1)\n",
    "labels=pd.read_csv(path+\"challenge_output_data_training_file_sleep_stages_classification.csv\", sep=\";\")"
   ]
  },
  {
   "cell_type": "code",
   "execution_count": 3,
   "metadata": {
    "collapsed": true
   },
   "outputs": [],
   "source": [
    "def select_freq_names(low, high, X_columns, prefix = ''):\n",
    "    return [name for name in X_columns \n",
    "            if len(name.split('q'))==2 \n",
    "            and name.split('freq')[0] == prefix\n",
    "            and low<=float(name.split('freq')[1]) \n",
    "            and high>= float(name.split('freq')[1])]\n",
    "def group_frequencies(name, low, high, frequencies, prefix = ''):\n",
    "    frequencies[name]=(1./(high-low) * (frequencies[select_freq_names(low,high,frequencies.columns,prefix)])).sum(axis=1)"
   ]
  },
  {
   "cell_type": "code",
   "execution_count": 4,
   "metadata": {
    "collapsed": false
   },
   "outputs": [],
   "source": [
    "new_feat = [\"delta\", 'theta', 'alpha1','alpha2', 'beta']\n",
    "#frequencies[\"delta\"]=frequencies[select_freq_names(0,3,frequencies.columns)].sum(axis=1)\n",
    "#frequencies[\"delta\"]=frequencies[select_freq_names(0,3.99,frequencies.columns)].sum(axis=1)\n",
    "#frequencies[\"theta\"]=frequencies[select_freq_names(4,7.5,frequencies.columns)].sum(axis=1)\n",
    "#frequencies[\"alpha\"]=frequencies[select_freq_names(7.5,13.99,frequencies.columns)].sum(axis=1)\n",
    "#frequencies[\"beta\"]=frequencies[select_freq_names(14,50,frequencies.columns)].sum(axis=1)\n",
    "\n",
    "def make_new_feats(frequencies):\n",
    "    group_frequencies(\"delta\", 0.8, 3.99, frequencies)\n",
    "    group_frequencies(\"theta\", 4, 7.499, frequencies)\n",
    "    group_frequencies(\"alpha1\", 7.5, 9.5, frequencies)\n",
    "    group_frequencies(\"alpha2\", 9.5, 13.99, frequencies)\n",
    "    group_frequencies(\"beta\", 14, 50, frequencies)\n",
    "#make_new_feats(frequencies)"
   ]
  },
  {
   "cell_type": "code",
   "execution_count": 5,
   "metadata": {
    "collapsed": true
   },
   "outputs": [],
   "source": [
    "from sklearn.cross_validation import train_test_split\n",
    "def train_val_test_split(X):    \n",
    "    X_train, X_test = train_test_split(X, test_size=0.10, random_state=42)\n",
    "    X_train, X_val = train_test_split(X_train, test_size=0.10, random_state=42)\n",
    "    return X_train, X_val, X_test"
   ]
  },
  {
   "cell_type": "code",
   "execution_count": 6,
   "metadata": {
    "collapsed": false
   },
   "outputs": [],
   "source": [
    "X_ACC_train, X_ACC_val, X_ACC_test=train_val_test_split(frequencies_acc)\n",
    "X_EEG_train, X_EEG_val, X_EEG_test=train_val_test_split(frequencies)\n",
    "X_other_train, X_other_val, X_other_test=train_val_test_split(stats.drop([\"skew_ACC_X\",\"skew_ACC_Y\", \"skew_ACC_Z\"], axis=1))\n",
    "y_train, y_val, y_test=train_val_test_split(labels[\"TARGET\"])"
   ]
  },
  {
   "cell_type": "code",
   "execution_count": 7,
   "metadata": {
    "collapsed": false
   },
   "outputs": [
    {
     "data": {
      "text/plain": [
       "'\\nX_ACC=scaler_ACC_predict.transform(X_ACC)\\nX_EEG=scaler_EEG_predict.transform(X_EEG)\\n\\nX_ACC_TEST=scaler_ACC_predict.transform(X_ACC_TEST)\\nX_EEG_TEST=scaler_EEG_predict.transform(X_EEG_TEST)\\n'"
      ]
     },
     "execution_count": 7,
     "metadata": {},
     "output_type": "execute_result"
    }
   ],
   "source": [
    "from sklearn.preprocessing import StandardScaler\n",
    "\n",
    "\n",
    "scaler_ACC_train = StandardScaler().fit(X_ACC_train)\n",
    "scaler_EEG_train= StandardScaler().fit(X_EEG_train)\n",
    "scaler_other_train=StandardScaler().fit(X_other_train)\n",
    "\"\"\"\n",
    "scaler_ACC_predict = StandardScaler().fit(X_ACC)\n",
    "scaler_EEG_predict= StandardScaler().fit(X_EEG)\n",
    "\"\"\"\n",
    "\n",
    "X_ACC_train=scaler_ACC_train.transform(X_ACC_train)\n",
    "X_ACC_val=scaler_ACC_train.transform(X_ACC_val)\n",
    "X_ACC_test=scaler_ACC_train.transform(X_ACC_test)\n",
    "\n",
    "X_EEG_train=scaler_EEG_train.transform(X_EEG_train)\n",
    "X_EEG_val=scaler_EEG_train.transform(X_EEG_val)\n",
    "X_EEG_test=scaler_EEG_train.transform(X_EEG_test)\n",
    "\n",
    "X_other_train=scaler_other_train.transform(X_other_train)\n",
    "X_other_val=scaler_other_train.transform(X_other_val)\n",
    "X_other_test=scaler_other_train.transform(X_other_test)\n",
    "\n",
    "\"\"\"\n",
    "X_ACC=scaler_ACC_predict.transform(X_ACC)\n",
    "X_EEG=scaler_EEG_predict.transform(X_EEG)\n",
    "\n",
    "X_ACC_TEST=scaler_ACC_predict.transform(X_ACC_TEST)\n",
    "X_EEG_TEST=scaler_EEG_predict.transform(X_EEG_TEST)\n",
    "\"\"\""
   ]
  },
  {
   "cell_type": "code",
   "execution_count": 8,
   "metadata": {
    "collapsed": false
   },
   "outputs": [],
   "source": [
    "labels_num=pd.DataFrame([range(len(y_train)), list(y_train)], index=[\"ID\",\"y\"]).T.groupby(\"y\").count()"
   ]
  },
  {
   "cell_type": "code",
   "execution_count": 9,
   "metadata": {
    "collapsed": false
   },
   "outputs": [],
   "source": [
    "def extra_sample(label, X_EEG_train, X_ACC_train, X_other_train):\n",
    "    random_indices=np.random.randint(0,labels_num.loc[label], labels_num.max()-labels_num.loc[label])\n",
    "    EEG=X_EEG_train[random_indices]\n",
    "    ACC=X_ACC_train[random_indices]\n",
    "    other=X_other_train[random_indices]\n",
    "    return EEG, ACC, other"
   ]
  },
  {
   "cell_type": "code",
   "execution_count": 10,
   "metadata": {
    "collapsed": false
   },
   "outputs": [
    {
     "name": "stderr",
     "output_type": "stream",
     "text": [
      "/usr/lib64/python2.7/site-packages/pandas/core/indexing.py:1198: FutureWarning: scalar indexers for index type Float64Index should be integers and not floating point\n",
      "  return self._getitem_axis(key, axis=0)\n"
     ]
    }
   ],
   "source": [
    "X_EEG_train_l=(X_EEG_train,)\n",
    "X_ACC_train_l=(X_ACC_train,)\n",
    "X_other_train_l=(X_other_train,)\n",
    "for label in labels[\"TARGET\"].unique():\n",
    "    if (labels_num.iloc[label].values < labels_num.max())[0]:\n",
    "        sample=extra_sample(label, X_EEG_train, X_ACC_train, X_other_train)\n",
    "        X_EEG_train_l=X_EEG_train_l + (sample[0],)\n",
    "        X_ACC_train_l=X_ACC_train_l + (sample[1],)\n",
    "        X_other_train_l=X_other_train_l + (sample[2],)\n",
    "X_EEG_trs=np.concatenate(X_EEG_train_l, axis=0)\n",
    "X_ACC_trs=np.concatenate(X_ACC_train_l, axis=0)\n",
    "X_other_trs=np.concatenate(X_other_train_l, axis=0)\n",
    "y_trs=np.concatenate(\n",
    "    (y_train,) + tuple(\n",
    "        [np.array([label]*(labels_num.max()-labels_num.loc[label])[0]) for label in labels[\"TARGET\"].unique()]\n",
    "                      )\n",
    "    )"
   ]
  },
  {
   "cell_type": "code",
   "execution_count": 11,
   "metadata": {
    "collapsed": false
   },
   "outputs": [],
   "source": [
    "def regroup_acc_freq (frequencies_acc):\n",
    "    for prefix in ['ACC_X.','ACC_Y.','ACC_Z.']:\n",
    "        group_frequencies(prefix+\"smaller_one\",0.01,1, frequencies_acc,prefix)\n",
    "        group_frequencies(prefix+\"one_to_two\",1.01,2, frequencies_acc,prefix)\n",
    "        group_frequencies(prefix+\"two_to_three\",2.01,3, frequencies_acc,prefix)\n",
    "        group_frequencies(prefix+\"three_to_four\",3.01,4, frequencies_acc,prefix)\n",
    "        group_frequencies(prefix+\"more_four\",4,10, frequencies_acc,prefix)\n",
    "#regroup_acc_freq (frequencies_acc)\n",
    "\n",
    "#prefixes = ['ACC_X.','ACC_Y.','ACC_Z.']\n",
    "#frequencies_acc = frequencies_acc[[prefix+ x for x in[\"smaller_one\",\"one_to_two\",\"two_to_three\",'more_four']for prefix in prefixes]]"
   ]
  },
  {
   "cell_type": "code",
   "execution_count": 12,
   "metadata": {
    "collapsed": false
   },
   "outputs": [],
   "source": [
    "def reshape(X, n_channels):\n",
    "    return X.reshape(X.shape[0],n_channels,X.shape[1]/n_channels)"
   ]
  },
  {
   "cell_type": "code",
   "execution_count": 13,
   "metadata": {
    "collapsed": false
   },
   "outputs": [],
   "source": [
    "X_ACC_trs=reshape(X_ACC_trs,3)\n",
    "X_ACC_val=reshape(X_ACC_val,3)\n",
    "X_ACC_test=reshape(X_ACC_test,3)\n",
    "\n",
    "X_EEG_trs=reshape(X_EEG_trs,1)\n",
    "X_EEG_val=reshape(X_EEG_val,1)\n",
    "X_EEG_test=reshape(X_EEG_test,1)\n",
    "\n",
    "X_other_trs=reshape(X_other_trs,1)\n",
    "X_other_val=reshape(X_other_val,1)\n",
    "X_other_test=reshape(X_other_test,1)"
   ]
  },
  {
   "cell_type": "code",
   "execution_count": 14,
   "metadata": {
    "collapsed": false
   },
   "outputs": [],
   "source": [
    "# Prepare Theano variables for inputs and targets\n",
    "input_var_EEG = T.tensor3('inputs')\n",
    "input_var_ACC = T.tensor3('inputs')\n",
    "input_var_other = T.tensor3('inputs')\n",
    "target_var = T.ivector('targets')\n",
    "# Create neural network model"
   ]
  },
  {
   "cell_type": "code",
   "execution_count": 16,
   "metadata": {
    "collapsed": false
   },
   "outputs": [],
   "source": [
    "import time\n",
    "from sklearn.base import BaseEstimator\n",
    "def iterate_minibatches(\n",
    "    input_1, \n",
    "    input_2, \n",
    "    input_3,\n",
    "    targets, \n",
    "    batchsize, \n",
    "    shuffle=False\n",
    "):\n",
    "    assert len(input_1) == len(targets)\n",
    "    assert len(input_2) == len(targets)\n",
    "    assert len(input_3) == len(targets)\n",
    "    if shuffle:\n",
    "        indices = np.arange(len(input_1))\n",
    "        np.random.shuffle(indices)\n",
    "    for start_idx in range(0, len(input_1) - batchsize + 1, batchsize):\n",
    "        if shuffle:\n",
    "            excerpt = indices[start_idx:start_idx + batchsize]\n",
    "        else:\n",
    "            excerpt = slice(start_idx, start_idx + batchsize)\n",
    "        yield input_1[excerpt], input_2[excerpt], input_3[excerpt], targets[excerpt]\n",
    "\n",
    "\"\"\"Default variables\"\"\"\n",
    "num_epochs = 20\n",
    "EEG_shape_1=X_EEG_trs.shape[1]\n",
    "EEG_shape_2=X_EEG_trs.shape[2]\n",
    "ACC_shape_1=X_ACC_trs.shape[1]\n",
    "ACC_shape_2=X_ACC_trs.shape[2]\n",
    "other_shape_1=X_other_trs.shape[1]\n",
    "other_shape_2=X_other_trs.shape[2]\n",
    "n_filters_EEG_1=32\n",
    "n_filters_EEG_2=32\n",
    "n_filters_ACC_1=16\n",
    "n_filters_ACC_2=16\n",
    "filter_size_EEG_1=32\n",
    "filter_size_EEG_2=8\n",
    "filter_size_ACC_1=8\n",
    "filter_size_ACC_2=4\n",
    "pool_size_EEG_1=16\n",
    "pool_size_EEG_2=4\n",
    "pool_size_ACC_1=16\n",
    "pool_size_ACC_2=4\n",
    "drop_out=0.5\n",
    "init_learning_rate=0.01\n",
    "num_units_EEG=1000\n",
    "num_units_ACC=100\n",
    "num_units_concat=2000\n",
    "num_units_other=1000\n",
    "num_classes=5\n",
    "\n",
    "class CNN(BaseEstimator):\n",
    "    def __init__(\n",
    "        self,\n",
    "        input_var_EEG, \n",
    "        input_var_ACC,\n",
    "        input_var_other,\n",
    "        target_var,\n",
    "        num_epochs\n",
    "    ):\n",
    "        #setting variables\n",
    "        self.input_var_EEG=input_var_EEG\n",
    "        self.input_var_ACC=input_var_ACC\n",
    "        self.input_var_other=input_var_other\n",
    "        self.target_var=target_var    \n",
    "        self.num_epochs=num_epochs\n",
    "        \n",
    "        #The network\n",
    "        #Three initialisation layers\n",
    "        #One for EEG\n",
    "        self.l_in1 = lasagne.layers.InputLayer(\n",
    "            shape=(None,EEG_shape_1, EEG_shape_2),\n",
    "            input_var=self.input_var_EEG\n",
    "        )\n",
    "        #One for ACC\n",
    "        self.l_in2 = lasagne.layers.InputLayer(\n",
    "            shape=(None,ACC_shape_1, ACC_shape_2),\n",
    "            input_var=self.input_var_ACC\n",
    "        )\n",
    "        self.l_in3=lasagne.layers.InputLayer(\n",
    "            shape=(None,other_shape_1, other_shape_2),\n",
    "            input_var=self.input_var_other\n",
    "        )\n",
    "        #Two convolutional layers to treat each signal separatedly\n",
    "        self.l_conv1_1 = lasagne.layers.Conv1DLayer(\n",
    "            self.l_in1, \n",
    "            num_filters=n_filters_EEG_1, \n",
    "            filter_size=filter_size_EEG_1,\n",
    "            nonlinearity=lasagne.nonlinearities.rectify,\n",
    "            W=lasagne.init.GlorotNormal()\n",
    "        )\n",
    "        self.l_conv2_1 = lasagne.layers.Conv1DLayer(\n",
    "            self.l_in2, \n",
    "            num_filters=n_filters_ACC_1, \n",
    "            filter_size=filter_size_ACC_1,\n",
    "            nonlinearity=lasagne.nonlinearities.rectify,\n",
    "            W=lasagne.init.GlorotNormal()\n",
    "        )\n",
    "        #And two pooling layers\n",
    "\n",
    "        self.l_pool_1_1 = lasagne.layers.MaxPool1DLayer(\n",
    "            self.l_conv1_1, \n",
    "            pool_size=pool_size_EEG_1\n",
    "        )\n",
    "        self.l_pool_2_1 = lasagne.layers.MaxPool1DLayer(\n",
    "            self.l_conv2_1, \n",
    "            pool_size=pool_size_ACC_1\n",
    "        )\n",
    "        #And again another 2 layers\n",
    "        self.l_conv1_2 = lasagne.layers.Conv1DLayer(\n",
    "            self.l_pool_1_1, \n",
    "            num_filters=n_filters_EEG_2, \n",
    "            filter_size=filter_size_EEG_2,\n",
    "            nonlinearity=lasagne.nonlinearities.rectify,\n",
    "            W=lasagne.init.GlorotUniform()\n",
    "        )\n",
    "        self.l_conv2_2 = lasagne.layers.Conv1DLayer(\n",
    "            self.l_conv2_1, num_filters=16, filter_size=5,\n",
    "            nonlinearity=lasagne.nonlinearities.rectify,\n",
    "            W=lasagne.init.GlorotUniform())\n",
    "        #pool\n",
    "        self.l_pool_1_2 = lasagne.layers.MaxPool1DLayer(\n",
    "            self.l_conv1_2, \n",
    "            pool_size=pool_size_EEG_2\n",
    "        )\n",
    "        self.l_pool_2_2 = lasagne.layers.MaxPool1DLayer(\n",
    "            self.l_conv2_2, \n",
    "            pool_size=pool_size_ACC_2\n",
    "        )\n",
    "        #Dense layer for \"others\" :\n",
    "        self.l_dense_other = lasagne.layers.DenseLayer(\n",
    "            lasagne.layers.dropout(\n",
    "                self.l_in3, \n",
    "                p=drop_out\n",
    "            ),\n",
    "            num_units=num_units_other,\n",
    "            nonlinearity=lasagne.nonlinearities.rectify\n",
    "        )\n",
    "        #Two dense layers for each signal\n",
    "        self.l_dense_1_1 = lasagne.layers.DenseLayer(\n",
    "            lasagne.layers.dropout(\n",
    "                self.l_pool_1_2, \n",
    "                p=drop_out\n",
    "            ),\n",
    "            num_units=num_units_EEG,\n",
    "            nonlinearity=lasagne.nonlinearities.rectify\n",
    "        )\n",
    "        self.l_dense_2_1 = lasagne.layers.DenseLayer(\n",
    "                lasagne.layers.dropout(\n",
    "                self.l_pool_2_2, \n",
    "                p=drop_out\n",
    "            ),\n",
    "            num_units=num_units_ACC,\n",
    "            nonlinearity=lasagne.nonlinearities.rectify\n",
    "        )\n",
    "        #use neurons from both signals to predict\n",
    "        #concatenate neurons\n",
    "        self.l_concat = lasagne.layers.ConcatLayer(\n",
    "            [\n",
    "                #self.l_pool_1_2, \n",
    "                #self.l_pool_2_2,\n",
    "                self.l_dense_1_1,\n",
    "                self.l_dense_2_1,\n",
    "                self.l_dense_other\n",
    "            ], \n",
    "            axis=1\n",
    "        )\n",
    "        #dense layer with all neurons\n",
    "        self.l_dense_2 = lasagne.layers.DenseLayer(\n",
    "                lasagne.layers.dropout(\n",
    "                self.l_concat, \n",
    "                p=drop_out\n",
    "            ),\n",
    "            num_units=num_units_concat,\n",
    "            nonlinearity=lasagne.nonlinearities.rectify\n",
    "        )\n",
    "        #Output layer\n",
    "        self.l_output = lasagne.layers.DenseLayer(\n",
    "            lasagne.layers.dropout(\n",
    "                self.l_dense_2, \n",
    "                #self.l_pool_1_2,\n",
    "                p=drop_out\n",
    "            ),\n",
    "            num_units=num_classes,\n",
    "            nonlinearity=lasagne.nonlinearities.softmax\n",
    "        )\n",
    "        self.prediction = lasagne.layers.get_output(self.l_output)\n",
    "        self.loss = lasagne.objectives.multiclass_hinge_loss(self.prediction, target_var)\n",
    "        self.loss = self.loss.mean()\n",
    "        self.params = lasagne.layers.get_all_params(self.l_output, trainable=True)\n",
    "        self.updates = lasagne.updates.adadelta(\n",
    "            self.loss, \n",
    "            self.params, \n",
    "            learning_rate=init_learning_rate\n",
    "        )\n",
    "        self.test_prediction = lasagne.layers.get_output(self.l_output, deterministic=True)\n",
    "        self.test_loss = lasagne.objectives.multiclass_hinge_loss(self.test_prediction,\n",
    "                                                                target_var)\n",
    "        self.test_loss = self.test_loss.mean()\n",
    "        self.test_acc = T.mean(T.eq(T.argmax(self.test_prediction, axis=1), self.target_var),\n",
    "                  dtype=theano.config.floatX)\n",
    "        self.train_fn =theano.function(\n",
    "            [\n",
    "                self.input_var_EEG, \n",
    "                self.input_var_ACC,\n",
    "                self.input_var_other,\n",
    "                self.target_var\n",
    "            ], \n",
    "            self.loss, \n",
    "            updates=self.updates\n",
    "        )\n",
    "        self.val_fn = theano.function(\n",
    "            [\n",
    "                self.input_var_EEG, \n",
    "                self.input_var_ACC,\n",
    "                self.input_var_other,\n",
    "                self.target_var\n",
    "            ], \n",
    "            [self.test_loss, self.test_acc])\n",
    "    def fit(\n",
    "        self,X_EEG_train,\n",
    "        X_ACC_train,\n",
    "        X_other_train,\n",
    "        X_EEG_val,\n",
    "        X_ACC_val,\n",
    "        X_other_val,\n",
    "        y_train,\n",
    "        y_val\n",
    "    ):\n",
    "\n",
    "        for epoch in range(self.num_epochs):\n",
    "            # In each epoch, we do a full pass over the training data:\n",
    "            train_err = 0\n",
    "            train_batches = 0\n",
    "            start_time = time.time()\n",
    "            for batch in iterate_minibatches(\n",
    "                X_EEG_train, \n",
    "                X_ACC_train, \n",
    "                X_other_train,\n",
    "                y_train, \n",
    "                64, \n",
    "                shuffle=True\n",
    "            ):\n",
    "                input_1, input_2, input_3, targets = batch\n",
    "                #inputs, targets = batch\n",
    "                targets = targets.astype(np.int32)\n",
    "                train_err += self.train_fn(input_1, input_2, input_3, targets)\n",
    "                #train_err += self.train_fn(inputs, targets)\n",
    "                train_batches += 1\n",
    "                if train_batches % 100 == 0:\n",
    "                    print \"epoch {}, train batches{}\".format(epoch,train_batches) \n",
    "\n",
    "            # And a full pass over the validation data:\n",
    "            val_err = 0\n",
    "            val_acc = 0\n",
    "            val_batches = 0\n",
    "            for batch in iterate_minibatches(\n",
    "                X_EEG_val, \n",
    "                X_ACC_val, \n",
    "                X_other_val,\n",
    "                y_val, \n",
    "                128, \n",
    "                shuffle=False\n",
    "            ):\n",
    "                input_1, input_2, input_3, targets = batch\n",
    "                #inputs, targets = batch\n",
    "                targets = targets.astype(np.int32)\n",
    "                err, acc = self.val_fn(input_1, input_2, input_3, targets)\n",
    "                #err, acc = self.val_fn(inputs, targets)\n",
    "                val_err += err\n",
    "                val_acc += acc\n",
    "                val_batches += 1\n",
    "\n",
    "            # Then we print the results for this epoch:\n",
    "            print(\"Epoch {} of {} took {:.3f}s\".format(\n",
    "                epoch + 1, num_epochs, time.time() - start_time))\n",
    "            print(\"  training loss:\\t\\t{:.6f}\".format(train_err / train_batches))\n",
    "            print(\"  validation loss:\\t\\t{:.6f}\".format(val_err / val_batches))\n",
    "            print(\"  validation accuracy:\\t\\t{:.2f} %\".format(\n",
    "                val_acc / val_batches * 100))\n",
    "        return self\n",
    "        \n",
    "    def predict_proba(\n",
    "        self,\n",
    "        X_EEG_test, \n",
    "        X_ACC_test,\n",
    "        X_other_test\n",
    "    ):\n",
    "        net_output=lasagne.layers.get_output(self.l_output, deterministic=True)\n",
    "        prediction_fn = theano.function(\n",
    "            [\n",
    "                input_var_EEG, \n",
    "                input_var_ACC,\n",
    "                input_var_other\n",
    "            ], \n",
    "            [net_output]\n",
    "        )\n",
    "        prediction =  prediction_fn(\n",
    "            X_EEG_test, \n",
    "            X_ACC_test,\n",
    "            X_other_test\n",
    "        )\n",
    "        return prediction[0]\n",
    "\n",
    "    def predict(\n",
    "        self,\n",
    "        X_EEG_test, \n",
    "        X_ACC_test,\n",
    "        X_other_test\n",
    "    ):\n",
    "         return np.argmax(self.predict_proba(\n",
    "                    X_EEG_test, \n",
    "                    X_ACC_test,\n",
    "                    X_other_test\n",
    "                ), axis=1)\n",
    "        "
   ]
  },
  {
   "cell_type": "code",
   "execution_count": null,
   "metadata": {
    "collapsed": false
   },
   "outputs": [],
   "source": [
    "cnn=CNN(input_var_EEG,\n",
    "        input_var_ACC,\n",
    "        input_var_other,\n",
    "        target_var,\n",
    "        num_epochs\n",
    "       )"
   ]
  },
  {
   "cell_type": "code",
   "execution_count": null,
   "metadata": {
    "collapsed": false,
    "scrolled": true
   },
   "outputs": [
    {
     "name": "stdout",
     "output_type": "stream",
     "text": [
      "epoch 0, train batches100\n",
      "epoch 0, train batches200\n",
      "epoch 0, train batches300\n",
      "epoch 0, train batches400\n",
      "epoch 0, train batches500\n",
      "epoch 0, train batches600\n",
      "epoch 0, train batches700\n",
      "epoch 0, train batches800\n",
      "epoch 0, train batches900\n",
      "Epoch 1 of 20 took 485.890s\n",
      "  training loss:\t\t1.070876\n",
      "  validation loss:\t\t0.997366\n",
      "  validation accuracy:\t\t51.56 %\n",
      "epoch 1, train batches100\n",
      "epoch 1, train batches200\n",
      "epoch 1, train batches300\n",
      "epoch 1, train batches400\n",
      "epoch 1, train batches500\n",
      "epoch 1, train batches600\n",
      "epoch 1, train batches700\n",
      "epoch 1, train batches800\n",
      "epoch 1, train batches900\n",
      "Epoch 2 of 20 took 441.318s"
     ]
    }
   ],
   "source": [
    "cnn.fit(\n",
    "    X_EEG_trs,\n",
    "    X_ACC_trs,\n",
    "    X_other_trs,\n",
    "    X_EEG_val,\n",
    "    X_ACC_val,\n",
    "    X_other_val,\n",
    "    y_trs,\n",
    "    y_val\n",
    ")"
   ]
  },
  {
   "cell_type": "code",
   "execution_count": null,
   "metadata": {
    "collapsed": true
   },
   "outputs": [],
   "source": [
    "probas=cnn.predict_proba(X_test)"
   ]
  },
  {
   "cell_type": "code",
   "execution_count": null,
   "metadata": {
    "collapsed": true
   },
   "outputs": [],
   "source": [
    "probas"
   ]
  },
  {
   "cell_type": "code",
   "execution_count": 105,
   "metadata": {
    "collapsed": false
   },
   "outputs": [],
   "source": [
    "predictions=cnn.predict(X_EEG_test, X_ACC_test, X_other_test)"
   ]
  },
  {
   "cell_type": "code",
   "execution_count": 106,
   "metadata": {
    "collapsed": false
   },
   "outputs": [
    {
     "name": "stdout",
     "output_type": "stream",
     "text": [
      "Counter({2.0: 1537, 3.0: 945, 4.0: 438, 0.0: 151, 1.0: 42}) Counter({2: 2071, 3: 1042})\n"
     ]
    }
   ],
   "source": [
    "import collections\n",
    "print collections.Counter(y_test), collections.Counter(predictions)"
   ]
  },
  {
   "cell_type": "code",
   "execution_count": 109,
   "metadata": {
    "collapsed": true
   },
   "outputs": [],
   "source": [
    "def plot_confusion_matrix(cm, title='Confusion matrix', cmap=plt.cm.Blues):\n",
    "    plt.imshow(cm, interpolation='nearest', cmap=cmap)\n",
    "    plt.title(title)\n",
    "    plt.colorbar()\n",
    "    tick_marks = np.arange(5)\n",
    "    plt.xticks(tick_marks, [0,1,2,3,4], rotation=45)\n",
    "    plt.yticks(tick_marks, [0,1,2,3,4])\n",
    "    plt.tight_layout()\n",
    "    plt.ylabel('True label')\n",
    "    plt.xlabel('Predicted label')\n"
   ]
  },
  {
   "cell_type": "code",
   "execution_count": 111,
   "metadata": {
    "collapsed": false
   },
   "outputs": [
    {
     "name": "stdout",
     "output_type": "stream",
     "text": [
      " [[   0    0  130   21    0]\n",
      " [   0    0   41    1    0]\n",
      " [   0    0 1238  299    0]\n",
      " [   0    0  233  712    0]\n",
      " [   0    0  429    9    0]]\n"
     ]
    },
    {
     "data": {
      "image/png": "[encoded data removed]",
      "text/plain": [
       "<matplotlib.figure.Figure at 0x25aed110>"
      ]
     },
     "metadata": {},
     "output_type": "display_data"
    }
   ],
   "source": [
    "from sklearn.metrics import confusion_matrix\n",
    "cm= confusion_matrix(y_test, predictions)\n",
    "print cm\n",
    "plt.figure()\n",
    "plot_confusion_matrix(cm)\n"
   ]
  },
  {
   "cell_type": "code",
   "execution_count": null,
   "metadata": {
    "collapsed": true
   },
   "outputs": [],
   "source": []
  }
 ],
 "metadata": {
  "kernelspec": {
   "display_name": "Python 2",
   "language": "python",
   "name": "python2"
  },
  "language_info": {
   "codemirror_mode": {
    "name": "ipython",
    "version": 2
   },
   "file_extension": ".py",
   "mimetype": "text/x-python",
   "name": "python",
   "nbconvert_exporter": "python",
   "pygments_lexer": "ipython2",
   "version": "2.7.5"
  }
 },
 "nbformat": 4,
 "nbformat_minor": 0
}
