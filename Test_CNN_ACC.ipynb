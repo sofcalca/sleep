{
 "cells": [
  {
   "cell_type": "code",
   "execution_count": 2,
   "metadata": {
    "collapsed": false
   },
   "outputs": [
    {
     "name": "stderr",
     "output_type": "stream",
     "text": [
      "theano/tensor/signal/downsample.py:5: UserWarning: downsample module has been moved to the pool module.\n",
      "  warnings.warn(\"downsample module has been moved to the pool module.\")\n"
     ]
    }
   ],
   "source": [
    "import numpy as np\n",
    "import pandas as pd\n",
    "import theano\n",
    "import theano.tensor as T\n",
    "\n",
    "import lasagne"
   ]
  },
  {
   "cell_type": "code",
   "execution_count": 15,
   "metadata": {
    "collapsed": false
   },
   "outputs": [],
   "source": [
    "path=\"data/\"\n",
    "data=pd.read_csv(path+\"input_train.csv\", index_col=\"ID\").filter(regex= \"ACC*\")\n",
    "labels=pd.read_csv(path+\"challenge_output_data_training_file_sleep_stages_classification.csv\", sep=\";\")"
   ]
  },
  {
   "cell_type": "code",
   "execution_count": 16,
   "metadata": {
    "collapsed": false
   },
   "outputs": [],
   "source": [
    "# Load the dataset\n",
    "from sklearn.cross_validation import train_test_split\n",
    "X_train, X_test, y_train, y_test = train_test_split(data, labels[\"TARGET\"].values, test_size=0.10, random_state=42)\n",
    "X_train, X_val, y_train, y_val = train_test_split(X_train, y_train, test_size=0.10, random_state=42)"
   ]
  },
  {
   "cell_type": "code",
   "execution_count": 17,
   "metadata": {
    "collapsed": false
   },
   "outputs": [],
   "source": [
    "from sklearn.preprocessing import StandardScaler\n",
    "scaler = StandardScaler().fit(X_train)\n",
    "X_train = scaler.transform(X_train)\n",
    "X_val = scaler.transform(X_val)\n",
    "X_test = scaler.transform(X_test)"
   ]
  },
  {
   "cell_type": "code",
   "execution_count": 18,
   "metadata": {
    "collapsed": false
   },
   "outputs": [],
   "source": [
    "X_train=X_train.reshape(X_train.shape[0],3,X_train.shape[1]/3)\n",
    "X_test=X_test.reshape(X_test.shape[0],3,X_test.shape[1]/3)\n",
    "X_val=X_val.reshape(X_val.shape[0],3,X_val.shape[1]/3)"
   ]
  },
  {
   "cell_type": "code",
   "execution_count": 21,
   "metadata": {
    "collapsed": false
   },
   "outputs": [],
   "source": [
    "def build_cnn(input_var=None):\n",
    "    network = lasagne.layers.InputLayer(shape=(None,X_train.shape[1], X_train.shape[2]),\n",
    "                                        input_var=input_var)\n",
    "    network = lasagne.layers.Conv1DLayer(\n",
    "        network, num_filters=8, filter_size=50,\n",
    "        nonlinearity=lasagne.nonlinearities.rectify,\n",
    "        #W=lasagne.init.GlorotUniform())\n",
    "        )\n",
    "    network = lasagne.layers.MaxPool1DLayer(network, pool_size=10)\n",
    "    #network = lasagne.layers.Conv2DLayer(\n",
    "    #    network, num_filters=32, filter_size=(10, 1),\n",
    "    #    nonlinearity=lasagne.nonlinearities.rectify,\n",
    "    #    W=lasagne.init.GlorotUniform())\n",
    "    #network = lasagne.layers.MaxPool2DLayer(network, pool_size=(5, 1))\n",
    "    network = lasagne.layers.DenseLayer(\n",
    "        lasagne.layers.dropout(network, p=.25),\n",
    "        num_units=1000,\n",
    "        nonlinearity=lasagne.nonlinearities.rectify)\n",
    "    network = lasagne.layers.DenseLayer(\n",
    "        lasagne.layers.dropout(network, p=.25),\n",
    "        num_units=5,\n",
    "        nonlinearity=lasagne.nonlinearities.softmax)\n",
    "\n",
    "    return network"
   ]
  },
  {
   "cell_type": "code",
   "execution_count": 22,
   "metadata": {
    "collapsed": false
   },
   "outputs": [],
   "source": [
    "#%pdb"
   ]
  },
  {
   "cell_type": "code",
   "execution_count": 23,
   "metadata": {
    "collapsed": false
   },
   "outputs": [],
   "source": [
    "# Prepare Theano variables for inputs and targets\n",
    "input_var = T.tensor3('inputs')\n",
    "target_var = T.ivector('targets')\n",
    "# Create neural network model\n",
    "network = build_cnn(input_var)"
   ]
  },
  {
   "cell_type": "code",
   "execution_count": 24,
   "metadata": {
    "collapsed": false
   },
   "outputs": [],
   "source": [
    "prediction = lasagne.layers.get_output(network)\n",
    "loss = lasagne.objectives.multiclass_hinge_loss(prediction, target_var)\n",
    "loss = loss.mean()"
   ]
  },
  {
   "cell_type": "code",
   "execution_count": 25,
   "metadata": {
    "collapsed": true
   },
   "outputs": [],
   "source": [
    "params = lasagne.layers.get_all_params(network, trainable=True)\n",
    "updates = lasagne.updates.nesterov_momentum(\n",
    "        loss, params, learning_rate=0.0005, momentum=0.9)"
   ]
  },
  {
   "cell_type": "code",
   "execution_count": 26,
   "metadata": {
    "collapsed": false
   },
   "outputs": [],
   "source": [
    "test_prediction = lasagne.layers.get_output(network, deterministic=True)\n",
    "test_loss = lasagne.objectives.multiclass_hinge_loss(test_prediction,\n",
    "                                                        target_var)\n",
    "test_loss = test_loss.mean()"
   ]
  },
  {
   "cell_type": "code",
   "execution_count": 27,
   "metadata": {
    "collapsed": true
   },
   "outputs": [],
   "source": [
    "test_acc = T.mean(T.eq(T.argmax(test_prediction, axis=1), target_var),\n",
    "                  dtype=theano.config.floatX)"
   ]
  },
  {
   "cell_type": "code",
   "execution_count": 28,
   "metadata": {
    "collapsed": false
   },
   "outputs": [],
   "source": [
    "from tempfile import mkstemp"
   ]
  },
  {
   "cell_type": "code",
   "execution_count": 14,
   "metadata": {
    "collapsed": false
   },
   "outputs": [],
   "source": [
    "#tempfile.mkstemp(dir=\"../tmp\")"
   ]
  },
  {
   "cell_type": "code",
   "execution_count": 15,
   "metadata": {
    "collapsed": true
   },
   "outputs": [],
   "source": [
    "#import os\n",
    "#os.environ[\"THEANO_FLAGS\"] = \"blas.ldflags=-llapack -lblas -lgfortran\""
   ]
  },
  {
   "cell_type": "code",
   "execution_count": 29,
   "metadata": {
    "collapsed": false,
    "scrolled": true
   },
   "outputs": [],
   "source": [
    "train_fn =theano.function([input_var, target_var], loss, updates=updates)"
   ]
  },
  {
   "cell_type": "code",
   "execution_count": 30,
   "metadata": {
    "collapsed": true
   },
   "outputs": [],
   "source": [
    "val_fn = theano.function([input_var, target_var], [test_loss, test_acc])"
   ]
  },
  {
   "cell_type": "code",
   "execution_count": 31,
   "metadata": {
    "collapsed": true
   },
   "outputs": [],
   "source": [
    "def iterate_minibatches(inputs, targets, batchsize, shuffle=False):\n",
    "    assert len(inputs) == len(targets)\n",
    "    if shuffle:\n",
    "        indices = np.arange(len(inputs))\n",
    "        np.random.shuffle(indices)\n",
    "    for start_idx in range(0, len(inputs) - batchsize + 1, batchsize):\n",
    "        if shuffle:\n",
    "            excerpt = indices[start_idx:start_idx + batchsize]\n",
    "        else:\n",
    "            excerpt = slice(start_idx, start_idx + batchsize)\n",
    "        yield inputs[excerpt], targets[excerpt]\n",
    "\n"
   ]
  },
  {
   "cell_type": "code",
   "execution_count": 32,
   "metadata": {
    "collapsed": false
   },
   "outputs": [
    {
     "name": "stdout",
     "output_type": "stream",
     "text": [
      "Epoch 1 of 20 took 7.421s\n",
      "  training loss:\t\t1.009341\n",
      "  validation loss:\t\t1.003843\n",
      "  validation accuracy:\t\t47.82 %\n",
      "Epoch 2 of 20 took 7.432s\n",
      "  training loss:\t\t1.002673\n",
      "  validation loss:\t\t1.000537\n",
      "  validation accuracy:\t\t47.82 %\n",
      "Epoch 3 of 20 took 7.406s\n",
      "  training loss:\t\t0.996440\n",
      "  validation loss:\t\t0.990307\n",
      "  validation accuracy:\t\t47.86 %\n",
      "Epoch 4 of 20 took 7.399s\n",
      "  training loss:\t\t0.980704\n",
      "  validation loss:\t\t0.981139\n",
      "  validation accuracy:\t\t47.86 %\n",
      "Epoch 5 of 20 took 7.391s\n",
      "  training loss:\t\t0.974691\n",
      "  validation loss:\t\t0.979998\n",
      "  validation accuracy:\t\t47.86 %\n",
      "Epoch 6 of 20 took 7.388s\n",
      "  training loss:\t\t0.974240\n",
      "  validation loss:\t\t0.979472\n",
      "  validation accuracy:\t\t47.24 %\n",
      "Epoch 7 of 20 took 7.420s\n",
      "  training loss:\t\t0.972272\n",
      "  validation loss:\t\t0.977804\n",
      "  validation accuracy:\t\t47.27 %\n",
      "Epoch 8 of 20 took 7.392s\n",
      "  training loss:\t\t0.967397\n",
      "  validation loss:\t\t0.973999\n",
      "  validation accuracy:\t\t48.55 %\n",
      "Epoch 9 of 20 took 7.408s\n",
      "  training loss:\t\t0.962555\n",
      "  validation loss:\t\t0.971212\n",
      "  validation accuracy:\t\t47.86 %\n",
      "Epoch 10 of 20 took 7.390s\n",
      "  training loss:\t\t0.961179\n",
      "  validation loss:\t\t0.971836\n",
      "  validation accuracy:\t\t48.36 %\n",
      "Epoch 11 of 20 took 7.387s\n",
      "  training loss:\t\t0.958958\n",
      "  validation loss:\t\t0.972030\n",
      "  validation accuracy:\t\t48.29 %\n",
      "Epoch 12 of 20 took 7.401s\n",
      "  training loss:\t\t0.957773\n",
      "  validation loss:\t\t0.970675\n",
      "  validation accuracy:\t\t48.66 %\n",
      "Epoch 13 of 20 took 7.389s\n",
      "  training loss:\t\t0.957232\n",
      "  validation loss:\t\t0.969872\n",
      "  validation accuracy:\t\t47.93 %\n",
      "Epoch 14 of 20 took 7.386s\n",
      "  training loss:\t\t0.956412\n",
      "  validation loss:\t\t0.969462\n",
      "  validation accuracy:\t\t48.36 %\n",
      "Epoch 15 of 20 took 7.389s\n",
      "  training loss:\t\t0.955468\n",
      "  validation loss:\t\t0.969668\n",
      "  validation accuracy:\t\t48.58 %\n",
      "Epoch 16 of 20 took 7.390s\n",
      "  training loss:\t\t0.955701\n",
      "  validation loss:\t\t0.969655\n",
      "  validation accuracy:\t\t48.51 %\n",
      "Epoch 17 of 20 took 7.376s\n",
      "  training loss:\t\t0.954789\n",
      "  validation loss:\t\t0.969504\n",
      "  validation accuracy:\t\t47.82 %\n",
      "Epoch 18 of 20 took 7.377s\n",
      "  training loss:\t\t0.954571\n",
      "  validation loss:\t\t0.969652\n",
      "  validation accuracy:\t\t48.47 %\n",
      "Epoch 19 of 20 took 7.386s\n",
      "  training loss:\t\t0.954621\n",
      "  validation loss:\t\t0.968679\n",
      "  validation accuracy:\t\t47.82 %\n",
      "Epoch 20 of 20 took 7.376s\n",
      "  training loss:\t\t0.953693\n",
      "  validation loss:\t\t0.969304\n",
      "  validation accuracy:\t\t48.62 %\n"
     ]
    }
   ],
   "source": [
    "import time\n",
    "num_epochs = 20\n",
    "for epoch in range(num_epochs):\n",
    "    # In each epoch, we do a full pass over the training data:\n",
    "    train_err = 0\n",
    "    train_batches = 0\n",
    "    start_time = time.time()\n",
    "    for batch in iterate_minibatches(X_train, y_train, 64, shuffle=True):\n",
    "        inputs, targets = batch\n",
    "        targets = targets.astype(np.int32)\n",
    "        train_err += train_fn(inputs, targets)\n",
    "        train_batches += 1\n",
    "\n",
    "    # And a full pass over the validation data:\n",
    "    val_err = 0\n",
    "    val_acc = 0\n",
    "    val_batches = 0\n",
    "    for batch in iterate_minibatches(X_val, y_val, 64, shuffle=False):\n",
    "        inputs, targets = batch\n",
    "        targets = targets.astype(np.int32)\n",
    "        err, acc = val_fn(inputs, targets)\n",
    "        val_err += err\n",
    "        val_acc += acc\n",
    "        val_batches += 1\n",
    "\n",
    "    # Then we print the results for this epoch:\n",
    "    print(\"Epoch {} of {} took {:.3f}s\".format(\n",
    "        epoch + 1, num_epochs, time.time() - start_time))\n",
    "    print(\"  training loss:\\t\\t{:.6f}\".format(train_err / train_batches))\n",
    "    print(\"  validation loss:\\t\\t{:.6f}\".format(val_err / val_batches))\n",
    "    print(\"  validation accuracy:\\t\\t{:.2f} %\".format(\n",
    "        val_acc / val_batches * 100))"
   ]
  },
  {
   "cell_type": "code",
   "execution_count": 26,
   "metadata": {
    "collapsed": false
   },
   "outputs": [
    {
     "name": "stdout",
     "output_type": "stream",
     "text": [
      "test loss:"
     ]
    },
    {
     "ename": "TypeError",
     "evalue": "'TensorVariable' object is not callable",
     "output_type": "error",
     "traceback": [
      "\u001b[1;31m---------------------------------------------------------------------------\u001b[0m",
      "\u001b[1;31mTypeError\u001b[0m                                 Traceback (most recent call last)",
      "\u001b[1;32m<ipython-input-26-36c55cb3e96f>\u001b[0m in \u001b[0;36m<module>\u001b[1;34m()\u001b[0m\n\u001b[0;32m      1\u001b[0m \u001b[1;32mfrom\u001b[0m \u001b[0msklearn\u001b[0m\u001b[1;33m.\u001b[0m\u001b[0mmetrics\u001b[0m \u001b[1;32mimport\u001b[0m \u001b[0maccuracy_score\u001b[0m\u001b[1;33m\u001b[0m\u001b[0m\n\u001b[0;32m      2\u001b[0m \u001b[0mpredicted_values\u001b[0m \u001b[1;33m=\u001b[0m \u001b[0mtest_prediction\u001b[0m\u001b[1;33m.\u001b[0m\u001b[0mflatten\u001b[0m\u001b[1;33m(\u001b[0m\u001b[1;33m)\u001b[0m\u001b[1;33m\u001b[0m\u001b[0m\n\u001b[1;32m----> 3\u001b[1;33m \u001b[1;32mprint\u001b[0m \u001b[1;34m\"test loss:\"\u001b[0m\u001b[1;33m,\u001b[0m \u001b[0mtest_loss\u001b[0m\u001b[1;33m(\u001b[0m\u001b[0mpredicted_values\u001b[0m\u001b[1;33m,\u001b[0m\u001b[0my_test\u001b[0m\u001b[1;33m)\u001b[0m\u001b[1;33m\u001b[0m\u001b[0m\n\u001b[0m",
      "\u001b[1;31mTypeError\u001b[0m: 'TensorVariable' object is not callable"
     ]
    }
   ],
   "source": [
    "from sklearn.metrics import accuracy_score\n",
    "predicted_values = test_prediction.flatten()\n",
    "print \"test loss:\", test_loss(predicted_values,y_test)"
   ]
  },
  {
   "cell_type": "code",
   "execution_count": 27,
   "metadata": {
    "collapsed": false
   },
   "outputs": [
    {
     "data": {
      "text/plain": [
       "Reshape{1}.0"
      ]
     },
     "execution_count": 27,
     "metadata": {},
     "output_type": "execute_result"
    },
    {
     "name": "stdout",
     "output_type": "stream",
     "text": [
      "\n"
     ]
    }
   ],
   "source": [
    "predicted_values"
   ]
  }
 ],
 "metadata": {
  "kernelspec": {
   "display_name": "Python 2",
   "language": "python",
   "name": "python2"
  },
  "language_info": {
   "codemirror_mode": {
    "name": "ipython",
    "version": 2
   },
   "file_extension": ".py",
   "mimetype": "text/x-python",
   "name": "python",
   "nbconvert_exporter": "python",
   "pygments_lexer": "ipython2",
   "version": "2.7.5"
  }
 },
 "nbformat": 4,
 "nbformat_minor": 0
}
