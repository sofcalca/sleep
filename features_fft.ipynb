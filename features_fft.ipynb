{
 "cells": [
  {
   "cell_type": "code",
   "execution_count": 1,
   "metadata": {
    "collapsed": false
   },
   "outputs": [],
   "source": [
    "import pandas as pd\n",
    "#import matplotlib.pyplot as plt\n",
    "#%matplotlib inline\n",
    "#import seaborn as sns; sns.set()\n",
    "import numpy as np\n",
    "\n",
    "from sys import platform as _platform\n",
    "\n",
    "#if _platform =='linux2':\n",
    "#    path = '../data/data_sleep/' \n",
    "#else:\n",
    "    #mets ton path ici et ça devrait marcher :)\n",
    "#    path = \"data\"\n",
    "path=\"data/\"\n",
    "#path = '../data/data_sleep/' \n"
   ]
  },
  {
   "cell_type": "code",
   "execution_count": 2,
   "metadata": {
    "collapsed": false
   },
   "outputs": [],
   "source": [
    "create_test = True\n",
    "if(create_test):\n",
    "    data=pd.read_csv(path+\"input_test.csv\")\n",
    "else: \n",
    "    data=pd.read_csv(path+\"input_train.csv\")\n",
    "    labels=pd.read_csv(path+\"challenge_output_data_training_file_sleep_stages_classification.csv\", sep=\";\")"
   ]
  },
  {
   "cell_type": "code",
   "execution_count": 3,
   "metadata": {
    "collapsed": false
   },
   "outputs": [],
   "source": [
    "data=data.set_index(\"ID\")"
   ]
  },
  {
   "cell_type": "code",
   "execution_count": 4,
   "metadata": {
    "collapsed": true
   },
   "outputs": [],
   "source": [
    "def filt(y,low, high, freq): \n",
    "    filter_array = [i for i,f in enumerate(freq) if f>=low and f<=high]\n",
    "    return np.array([y[i] for i in filter_array])"
   ]
  },
  {
   "cell_type": "code",
   "execution_count": 5,
   "metadata": {
    "collapsed": true
   },
   "outputs": [],
   "source": [
    "import re \n",
    "def make_eeg_features(train, low, high):\n",
    "    fs = 250 # in Hz\n",
    "    N = fs * 15\n",
    "    train_eeg = train.filter(regex='EEG[0-9]*').values\n",
    "    X_fft = np.fft.fft(train_eeg)\n",
    "    freq = np.fft.fftfreq(N, 1./fs)\n",
    "    filtered_freq = filt(freq,low,high,freq)\n",
    "    X_fft = np.apply_along_axis(lambda x: filt(x,low,high,freq), 1 , 1./N * abs(X_fft))\n",
    "    X_fft = pd.DataFrame(X_fft, columns= [\"freq\"+str(f) for f in filtered_freq], index=train.index)\n",
    "    return X_fft"
   ]
  },
  {
   "cell_type": "code",
   "execution_count": 6,
   "metadata": {
    "collapsed": true
   },
   "outputs": [],
   "source": [
    "#X_fft = make_eeg_features(data, 0.4, 50)\n",
    "#if(create_test):\n",
    "#    X_fft.to_csv(\"data/fft_eeg_test.csv\", index=False)\n",
    "#else :\n",
    "#    X_fft.to_csv(\"data/fft_eeg.csv\", index=False)\n"
   ]
  },
  {
   "cell_type": "code",
   "execution_count": 48,
   "metadata": {
    "collapsed": true
   },
   "outputs": [],
   "source": [
    "def make_acc_features(train, low, high):\n",
    "    fs = 10 #in Hz\n",
    "    N = fs * 15 #number of samples\n",
    "    accelaration_names = ['ACC_X.','ACC_Y.','ACC_Z.']\n",
    "    result = []\n",
    "    for name in accelaration_names:\n",
    "        train_eeg = train.filter(regex=name+'[0-9]*').values\n",
    "        X_fft = np.fft.fft(train_eeg)\n",
    "        freq = np.fft.fftfreq(N, 1./fs)\n",
    "        filtered_freq = filt(freq,low,high,freq)\n",
    "        X_fft = np.apply_along_axis(lambda x: filt(x,low,high,freq), 1 , 1./N *abs(X_fft))\n",
    "        X_fft = pd.DataFrame(X_fft, columns= [name+\"freq\"+str(f) for f in filtered_freq], index=train.index)\n",
    "        result.append(X_fft)\n",
    "    return pd.concat(result,axis = 1)"
   ]
  },
  {
   "cell_type": "code",
   "execution_count": 8,
   "metadata": {
    "collapsed": false
   },
   "outputs": [],
   "source": [
    "#fft_acc = make_acc_features(data, 0, 200)\n",
    "#if(create_test):\n",
    "#    fft_acc.to_csv(\"data/fft_acc_test.csv\", index=False)\n",
    "#else:\n",
    "#    fft_acc.to_csv(\"data/fft_acc.csv\", index=False)\n"
   ]
  },
  {
   "cell_type": "code",
   "execution_count": 49,
   "metadata": {
    "collapsed": false
   },
   "outputs": [],
   "source": [
    "def make_features_fft(create_test =False, make_files = True):\n",
    "    #si create_test = False: fait les trucs de train, sinon les trucs de test\n",
    "    #si make_files =True, crée les fichiers dans data\n",
    "    X_fft = make_eeg_features(data, 0.4, 50)\n",
    "    if(make_files):\n",
    "        if(create_test):\n",
    "            X_fft.to_csv(\"data/fft_eeg_test.csv\", index=True)\n",
    "        else :\n",
    "            X_fft.to_csv(\"data/fft_eeg.csv\", index=True)\n",
    "    \n",
    "    fft_acc = make_acc_features(data, 0, 200)\n",
    "    if(make_files):    \n",
    "        if(create_test):\n",
    "            fft_acc.to_csv(\"data/fft_acc_test.csv\", index=True)\n",
    "        else:\n",
    "            fft_acc.to_csv(\"data/fft_acc.csv\", index=True)\n",
    "    return X_fft, fft_acc\n",
    "\n",
    "fft_eeg, fft_acc= make_features_fft(create_test = create_test)"
   ]
  },
  {
   "cell_type": "code",
   "execution_count": 51,
   "metadata": {
    "collapsed": false
   },
   "outputs": [
    {
     "data": {
      "text/html": [
       "<div>\n",
       "<table border=\"1\" class=\"dataframe\">\n",
       "  <thead>\n",
       "    <tr style=\"text-align: right;\">\n",
       "      <th></th>\n",
       "      <th>ACC_X.freq0.0</th>\n",
       "      <th>ACC_X.freq0.0666666666667</th>\n",
       "      <th>ACC_X.freq0.133333333333</th>\n",
       "      <th>ACC_X.freq0.2</th>\n",
       "      <th>ACC_X.freq0.266666666667</th>\n",
       "      <th>ACC_X.freq0.333333333333</th>\n",
       "      <th>ACC_X.freq0.4</th>\n",
       "      <th>ACC_X.freq0.466666666667</th>\n",
       "      <th>ACC_X.freq0.533333333333</th>\n",
       "      <th>ACC_X.freq0.6</th>\n",
       "      <th>...</th>\n",
       "      <th>ACC_Z.freq4.33333333333</th>\n",
       "      <th>ACC_Z.freq4.4</th>\n",
       "      <th>ACC_Z.freq4.46666666667</th>\n",
       "      <th>ACC_Z.freq4.53333333333</th>\n",
       "      <th>ACC_Z.freq4.6</th>\n",
       "      <th>ACC_Z.freq4.66666666667</th>\n",
       "      <th>ACC_Z.freq4.73333333333</th>\n",
       "      <th>ACC_Z.freq4.8</th>\n",
       "      <th>ACC_Z.freq4.86666666667</th>\n",
       "      <th>ACC_Z.freq4.93333333333</th>\n",
       "    </tr>\n",
       "    <tr>\n",
       "      <th>ID</th>\n",
       "      <th></th>\n",
       "      <th></th>\n",
       "      <th></th>\n",
       "      <th></th>\n",
       "      <th></th>\n",
       "      <th></th>\n",
       "      <th></th>\n",
       "      <th></th>\n",
       "      <th></th>\n",
       "      <th></th>\n",
       "      <th></th>\n",
       "      <th></th>\n",
       "      <th></th>\n",
       "      <th></th>\n",
       "      <th></th>\n",
       "      <th></th>\n",
       "      <th></th>\n",
       "      <th></th>\n",
       "      <th></th>\n",
       "      <th></th>\n",
       "      <th></th>\n",
       "    </tr>\n",
       "  </thead>\n",
       "  <tbody>\n",
       "    <tr>\n",
       "      <th>ID00001</th>\n",
       "      <td>766115.449965</td>\n",
       "      <td>12075.923680</td>\n",
       "      <td>24888.033846</td>\n",
       "      <td>20138.575774</td>\n",
       "      <td>22633.021475</td>\n",
       "      <td>18257.390673</td>\n",
       "      <td>24909.838353</td>\n",
       "      <td>22513.783580</td>\n",
       "      <td>32909.502798</td>\n",
       "      <td>31210.597837</td>\n",
       "      <td>...</td>\n",
       "      <td>34536.419228</td>\n",
       "      <td>28448.097636</td>\n",
       "      <td>3341.917956</td>\n",
       "      <td>28552.712770</td>\n",
       "      <td>17792.514208</td>\n",
       "      <td>12687.343215</td>\n",
       "      <td>11449.358040</td>\n",
       "      <td>20939.538493</td>\n",
       "      <td>7103.458982</td>\n",
       "      <td>23543.496158</td>\n",
       "    </tr>\n",
       "    <tr>\n",
       "      <th>ID00002</th>\n",
       "      <td>1633959.051291</td>\n",
       "      <td>11.112448</td>\n",
       "      <td>23.266327</td>\n",
       "      <td>35.730023</td>\n",
       "      <td>70.190185</td>\n",
       "      <td>34.657673</td>\n",
       "      <td>21.462817</td>\n",
       "      <td>14.841770</td>\n",
       "      <td>4.797201</td>\n",
       "      <td>21.175580</td>\n",
       "      <td>...</td>\n",
       "      <td>3.859253</td>\n",
       "      <td>18.683378</td>\n",
       "      <td>5.804398</td>\n",
       "      <td>15.684640</td>\n",
       "      <td>20.250235</td>\n",
       "      <td>7.649515</td>\n",
       "      <td>34.215672</td>\n",
       "      <td>14.129421</td>\n",
       "      <td>34.194313</td>\n",
       "      <td>46.927888</td>\n",
       "    </tr>\n",
       "    <tr>\n",
       "      <th>ID00003</th>\n",
       "      <td>1279526.995287</td>\n",
       "      <td>26.392403</td>\n",
       "      <td>12.984150</td>\n",
       "      <td>25.423652</td>\n",
       "      <td>190.844161</td>\n",
       "      <td>9.624469</td>\n",
       "      <td>12.281736</td>\n",
       "      <td>30.127383</td>\n",
       "      <td>68.650942</td>\n",
       "      <td>26.551426</td>\n",
       "      <td>...</td>\n",
       "      <td>33.117089</td>\n",
       "      <td>15.861403</td>\n",
       "      <td>68.044299</td>\n",
       "      <td>47.112991</td>\n",
       "      <td>10.032810</td>\n",
       "      <td>16.130992</td>\n",
       "      <td>43.596121</td>\n",
       "      <td>20.354224</td>\n",
       "      <td>38.330875</td>\n",
       "      <td>36.900923</td>\n",
       "    </tr>\n",
       "    <tr>\n",
       "      <th>ID00004</th>\n",
       "      <td>424859.704354</td>\n",
       "      <td>25.334989</td>\n",
       "      <td>27.333952</td>\n",
       "      <td>14.341754</td>\n",
       "      <td>8.485558</td>\n",
       "      <td>5.597711</td>\n",
       "      <td>7.051690</td>\n",
       "      <td>18.515239</td>\n",
       "      <td>4.904991</td>\n",
       "      <td>31.864741</td>\n",
       "      <td>...</td>\n",
       "      <td>67.088441</td>\n",
       "      <td>22.789909</td>\n",
       "      <td>44.549747</td>\n",
       "      <td>49.225816</td>\n",
       "      <td>23.098851</td>\n",
       "      <td>39.876030</td>\n",
       "      <td>70.616154</td>\n",
       "      <td>97.647701</td>\n",
       "      <td>90.520403</td>\n",
       "      <td>57.878113</td>\n",
       "    </tr>\n",
       "    <tr>\n",
       "      <th>ID00005</th>\n",
       "      <td>1437107.043746</td>\n",
       "      <td>3190.825428</td>\n",
       "      <td>1638.187898</td>\n",
       "      <td>1089.527826</td>\n",
       "      <td>2141.265460</td>\n",
       "      <td>1001.266583</td>\n",
       "      <td>856.831061</td>\n",
       "      <td>110.557719</td>\n",
       "      <td>581.378473</td>\n",
       "      <td>587.409759</td>\n",
       "      <td>...</td>\n",
       "      <td>19.667164</td>\n",
       "      <td>14.525551</td>\n",
       "      <td>33.307811</td>\n",
       "      <td>58.284815</td>\n",
       "      <td>26.510136</td>\n",
       "      <td>38.106391</td>\n",
       "      <td>34.443098</td>\n",
       "      <td>43.538715</td>\n",
       "      <td>47.319924</td>\n",
       "      <td>17.846680</td>\n",
       "    </tr>\n",
       "  </tbody>\n",
       "</table>\n",
       "<p>5 rows × 225 columns</p>\n",
       "</div>"
      ],
      "text/plain": [
       "          ACC_X.freq0.0  ACC_X.freq0.0666666666667  ACC_X.freq0.133333333333  \\\n",
       "ID                                                                             \n",
       "ID00001   766115.449965               12075.923680              24888.033846   \n",
       "ID00002  1633959.051291                  11.112448                 23.266327   \n",
       "ID00003  1279526.995287                  26.392403                 12.984150   \n",
       "ID00004   424859.704354                  25.334989                 27.333952   \n",
       "ID00005  1437107.043746                3190.825428               1638.187898   \n",
       "\n",
       "         ACC_X.freq0.2  ACC_X.freq0.266666666667  ACC_X.freq0.333333333333  \\\n",
       "ID                                                                           \n",
       "ID00001   20138.575774              22633.021475              18257.390673   \n",
       "ID00002      35.730023                 70.190185                 34.657673   \n",
       "ID00003      25.423652                190.844161                  9.624469   \n",
       "ID00004      14.341754                  8.485558                  5.597711   \n",
       "ID00005    1089.527826               2141.265460               1001.266583   \n",
       "\n",
       "         ACC_X.freq0.4  ACC_X.freq0.466666666667  ACC_X.freq0.533333333333  \\\n",
       "ID                                                                           \n",
       "ID00001   24909.838353              22513.783580              32909.502798   \n",
       "ID00002      21.462817                 14.841770                  4.797201   \n",
       "ID00003      12.281736                 30.127383                 68.650942   \n",
       "ID00004       7.051690                 18.515239                  4.904991   \n",
       "ID00005     856.831061                110.557719                581.378473   \n",
       "\n",
       "         ACC_X.freq0.6           ...             ACC_Z.freq4.33333333333  \\\n",
       "ID                               ...                                       \n",
       "ID00001   31210.597837           ...                        34536.419228   \n",
       "ID00002      21.175580           ...                            3.859253   \n",
       "ID00003      26.551426           ...                           33.117089   \n",
       "ID00004      31.864741           ...                           67.088441   \n",
       "ID00005     587.409759           ...                           19.667164   \n",
       "\n",
       "         ACC_Z.freq4.4  ACC_Z.freq4.46666666667  ACC_Z.freq4.53333333333  \\\n",
       "ID                                                                         \n",
       "ID00001   28448.097636              3341.917956             28552.712770   \n",
       "ID00002      18.683378                 5.804398                15.684640   \n",
       "ID00003      15.861403                68.044299                47.112991   \n",
       "ID00004      22.789909                44.549747                49.225816   \n",
       "ID00005      14.525551                33.307811                58.284815   \n",
       "\n",
       "         ACC_Z.freq4.6  ACC_Z.freq4.66666666667  ACC_Z.freq4.73333333333  \\\n",
       "ID                                                                         \n",
       "ID00001   17792.514208             12687.343215             11449.358040   \n",
       "ID00002      20.250235                 7.649515                34.215672   \n",
       "ID00003      10.032810                16.130992                43.596121   \n",
       "ID00004      23.098851                39.876030                70.616154   \n",
       "ID00005      26.510136                38.106391                34.443098   \n",
       "\n",
       "         ACC_Z.freq4.8  ACC_Z.freq4.86666666667  ACC_Z.freq4.93333333333  \n",
       "ID                                                                        \n",
       "ID00001   20939.538493              7103.458982             23543.496158  \n",
       "ID00002      14.129421                34.194313                46.927888  \n",
       "ID00003      20.354224                38.330875                36.900923  \n",
       "ID00004      97.647701                90.520403                57.878113  \n",
       "ID00005      43.538715                47.319924                17.846680  \n",
       "\n",
       "[5 rows x 225 columns]"
      ]
     },
     "execution_count": 51,
     "metadata": {},
     "output_type": "execute_result"
    }
   ],
   "source": [
    "fft_acc.head()"
   ]
  },
  {
   "cell_type": "code",
   "execution_count": 11,
   "metadata": {
    "collapsed": true
   },
   "outputs": [],
   "source": [
    "def count_by_zero(array):\n",
    "    \"\"\"\n",
    "    Counts the number of times the signal crosses through zero\n",
    "    \"\"\"\n",
    "    counts = 0\n",
    "    for i in range(0, len(array)-1):\n",
    "        if np.sign(array[i]) != np.sign(array[i+1]):\n",
    "            counts+=1\n",
    "    return counts"
   ]
  },
  {
   "cell_type": "code",
   "execution_count": 12,
   "metadata": {
    "collapsed": true
   },
   "outputs": [],
   "source": [
    "def make_signal_dic(data):\n",
    "    \"\"\"\n",
    "    Takes train or test data and creates a dictionary separating each signal\n",
    "    \"\"\"\n",
    "    signals = [\"EEG\", \"ACC_X\", \"ACC_Y\", \"ACC_Z\"]\n",
    "    return {signal: data.filter(regex= \"^\"+signal+\".*\") \n",
    "                for signal in signals\n",
    "    }"
   ]
  },
  {
   "cell_type": "code",
   "execution_count": 13,
   "metadata": {
    "collapsed": false
   },
   "outputs": [],
   "source": [
    "def create_stat_features(signal, signal_name):\n",
    "    \"\"\"\n",
    "    Inputs a signal, outputs some important statistics information about it\n",
    "    \"\"\"\n",
    "\n",
    "    quantiles = signal.quantile(np.linspace(0,1,11), axis=1).T\n",
    "    quantiles.columns = [\"{}_quantile_{}\".format(signal_name, q) for q in range(0,110,10)]\n",
    "    \n",
    "    moments = pd.concat(\n",
    "        [signal.mean(axis=1), signal.var(axis=1), signal.skew(axis=1), signal.kurt(axis=1)], \n",
    "        axis=1\n",
    "    )\n",
    "    moments.columns= [name.format(signal_name) for name in [\"mean_{}\", \"var_{}\", \"skew_{}\", \"kurt_{}\"]]\n",
    "    \n",
    "    return pd.concat([quantiles, moments], axis=1)"
   ]
  },
  {
   "cell_type": "code",
   "execution_count": 14,
   "metadata": {
    "collapsed": true
   },
   "outputs": [],
   "source": [
    "signals = make_signal_dic(data)"
   ]
  },
  {
   "cell_type": "code",
   "execution_count": 26,
   "metadata": {
    "collapsed": false
   },
   "outputs": [],
   "source": [
    "def make_stats(create_test =False, make_files = True):\n",
    "    \"takes the dict of signals and returns descriptive stats for EEG and ACC\"\n",
    "    stats = {\n",
    "        signal: create_stat_features(signals[signal], signal)\n",
    "        for signal in signals.keys()\n",
    "    }\n",
    "    stats_EEG = pd.concat(\n",
    "        [\n",
    "            stats[\"EEG\"], \n",
    "            pd.Series(signals[\"EEG\"].apply(count_by_zero, axis=1), name=\"EEG_through_0\")\n",
    "        ],\n",
    "        axis=1\n",
    "        )\n",
    "    if make_files:\n",
    "        if create_test:\n",
    "            stats_EEG.to_csv(\"data/stats_eeg_test.csv\", index=True)\n",
    "        else:\n",
    "            stats_EEG.to_csv(\"data/stats_eeg.csv\", index=False)\n",
    "    stats_ACC = pd.concat([stats[\"ACC_{}\".format(dim)] for dim in [\"X\", \"Y\", \"Z\"]], axis=1)\n",
    "    if make_files:\n",
    "        if create_test:\n",
    "            stats_ACC.to_csv(\"data/stats_acc_test.csv\", index=True)\n",
    "        else:\n",
    "            stats_ACC.to_csv(\"data/stats_acc.csv\", index=True)\n",
    "    return stats_EEG, stats_ACC"
   ]
  },
  {
   "cell_type": "code",
   "execution_count": 27,
   "metadata": {
    "collapsed": false
   },
   "outputs": [],
   "source": [
    "stats_EEG, stats_ACC=make_stats(create_test =create_test, make_files = True)"
   ]
  },
  {
   "cell_type": "code",
   "execution_count": 30,
   "metadata": {
    "collapsed": true
   },
   "outputs": [],
   "source": [
    "def consolidated_amplitude_accelometer(fft_acc):\n",
    "    \"\"\"\n",
    "    Takes the FFT of the accelerometer for each dimension. Returns the L2 norm of the amplitudes for each sequence\n",
    "    \"\"\"\n",
    "    power_by_dimension = {dim: pd.DataFrame() for dim in [\"X\", \"Y\", \"Z\"]}\n",
    "    #go through every column\n",
    "    for col in fft_acc.columns:\n",
    "        #check which dimension it is related to\n",
    "        if col[4]==\"X\":\n",
    "            #squared of the amplitude for each frequency\n",
    "            power_by_dimension[\"X\"][\"{}\".format(col[6:])]=fft_acc[col]**2 \n",
    "        elif col[4]==\"Y\":\n",
    "            power_by_dimension[\"Y\"][\"{}\".format(col[6:])]=fft_acc[col]**2\n",
    "        elif col[4]==\"Z\":\n",
    "            power_by_dimension[\"Z\"][\"{}\".format(col[6:])]=fft_acc[col]**2\n",
    "    return np.sqrt(power_by_dimension[\"X\"] + power_by_dimension[\"Y\"] + power_by_dimension[\"Z\"])"
   ]
  },
  {
   "cell_type": "code",
   "execution_count": 31,
   "metadata": {
    "collapsed": true
   },
   "outputs": [],
   "source": [
    "def speed_accelerometer(dict_accelerometer):\n",
    "    \"\"\"\n",
    "    Takes a dictionary with dataframes for each dimension of the accelerometer. Returns consolidated features \n",
    "    (Speed and 1D amplitude)\n",
    "    \"\"\"\n",
    "    #Integral of the acceleration = speed\n",
    "    return np.sqrt( #sqrt of the\n",
    "        sum( #sum over\n",
    "            [\n",
    "                dict_accelerometer[\"ACC_{}\".format(dim)].sum(axis=1)**2 \n",
    "                #squared integral of the acceleration\n",
    "                for dim in [\"X\", \"Y\", \"Z\"] #for each dimension\n",
    "            ]\n",
    "        ) \n",
    "        \n",
    "    )"
   ]
  },
  {
   "cell_type": "code",
   "execution_count": 32,
   "metadata": {
    "collapsed": true
   },
   "outputs": [],
   "source": [
    "def make_features_accelerometer(create_test =False, make_files = True):\n",
    "    ACC_feats = pd.concat(\n",
    "        [\n",
    "            consolidated_amplitude_accelometer(fft_acc), \n",
    "            pd.Series(speed_accelerometer(signals), name=\"SPEED\")\n",
    "        ],\n",
    "        axis=1\n",
    "        )\n",
    "    if make_files:\n",
    "        if create_test:\n",
    "            ACC_feats.to_csv(\"data/ACC_feats_test.csv\", index=True)\n",
    "        else:\n",
    "            ACC_feats.to_csv(\"data/ACC_feats.csv\", index=True)\n",
    "    return ACC_feats"
   ]
  },
  {
   "cell_type": "code",
   "execution_count": 20,
   "metadata": {
    "collapsed": false
   },
   "outputs": [
    {
     "name": "stdout",
     "output_type": "stream",
     "text": [
      "Automatic pdb calling has been turned ON\n"
     ]
    }
   ],
   "source": [
    "%pdb"
   ]
  },
  {
   "cell_type": "code",
   "execution_count": 52,
   "metadata": {
    "collapsed": false
   },
   "outputs": [],
   "source": [
    "ACC_feats=make_features_accelerometer(create_test =create_test)"
   ]
  },
  {
   "cell_type": "code",
   "execution_count": 20,
   "metadata": {
    "collapsed": false
   },
   "outputs": [
    {
     "ename": "NameError",
     "evalue": "name 'plt' is not defined",
     "output_type": "error",
     "traceback": [
      "\u001b[1;31m---------------------------------------------------------------------------\u001b[0m",
      "\u001b[1;31mNameError\u001b[0m                                 Traceback (most recent call last)",
      "\u001b[1;32m<ipython-input-20-75b17ae07f05>\u001b[0m in \u001b[0;36m<module>\u001b[1;34m()\u001b[0m\n\u001b[0;32m      1\u001b[0m \u001b[0mfreq\u001b[0m \u001b[1;33m=\u001b[0m \u001b[0mnp\u001b[0m\u001b[1;33m.\u001b[0m\u001b[0mfft\u001b[0m\u001b[1;33m.\u001b[0m\u001b[0mfftfreq\u001b[0m\u001b[1;33m(\u001b[0m\u001b[1;36m15\u001b[0m\u001b[1;33m*\u001b[0m\u001b[1;36m10\u001b[0m\u001b[1;33m,\u001b[0m \u001b[1;36m1.\u001b[0m\u001b[1;33m/\u001b[0m\u001b[1;36m250\u001b[0m\u001b[1;33m)\u001b[0m\u001b[1;33m\u001b[0m\u001b[0m\n\u001b[1;32m----> 2\u001b[1;33m \u001b[0mplt\u001b[0m\u001b[1;33m.\u001b[0m\u001b[0mplot\u001b[0m\u001b[1;33m(\u001b[0m\u001b[0mfreq\u001b[0m\u001b[1;33m[\u001b[0m\u001b[1;36m0\u001b[0m\u001b[1;33m:\u001b[0m\u001b[1;36m75\u001b[0m\u001b[1;33m]\u001b[0m\u001b[1;33m,\u001b[0m\u001b[0mresult\u001b[0m\u001b[1;33m.\u001b[0m\u001b[0mvalues\u001b[0m\u001b[1;33m[\u001b[0m\u001b[1;36m0\u001b[0m\u001b[1;33m]\u001b[0m\u001b[1;33m[\u001b[0m\u001b[1;36m0\u001b[0m\u001b[1;33m:\u001b[0m\u001b[1;36m75\u001b[0m\u001b[1;33m]\u001b[0m\u001b[1;33m)\u001b[0m\u001b[1;33m\u001b[0m\u001b[0m\n\u001b[0m",
      "\u001b[1;31mNameError\u001b[0m: name 'plt' is not defined"
     ]
    },
    {
     "name": "stdout",
     "output_type": "stream",
     "text": [
      "> \u001b[1;32m<ipython-input-20-75b17ae07f05>\u001b[0m(2)\u001b[0;36m<module>\u001b[1;34m()\u001b[0m\n",
      "\u001b[1;32m      1 \u001b[1;33m\u001b[0mfreq\u001b[0m \u001b[1;33m=\u001b[0m \u001b[0mnp\u001b[0m\u001b[1;33m.\u001b[0m\u001b[0mfft\u001b[0m\u001b[1;33m.\u001b[0m\u001b[0mfftfreq\u001b[0m\u001b[1;33m(\u001b[0m\u001b[1;36m15\u001b[0m\u001b[1;33m*\u001b[0m\u001b[1;36m10\u001b[0m\u001b[1;33m,\u001b[0m \u001b[1;36m1.\u001b[0m\u001b[1;33m/\u001b[0m\u001b[1;36m250\u001b[0m\u001b[1;33m)\u001b[0m\u001b[1;33m\u001b[0m\u001b[0m\n",
      "\u001b[0m\u001b[1;32m----> 2 \u001b[1;33m\u001b[0mplt\u001b[0m\u001b[1;33m.\u001b[0m\u001b[0mplot\u001b[0m\u001b[1;33m(\u001b[0m\u001b[0mfreq\u001b[0m\u001b[1;33m[\u001b[0m\u001b[1;36m0\u001b[0m\u001b[1;33m:\u001b[0m\u001b[1;36m75\u001b[0m\u001b[1;33m]\u001b[0m\u001b[1;33m,\u001b[0m\u001b[0mresult\u001b[0m\u001b[1;33m.\u001b[0m\u001b[0mvalues\u001b[0m\u001b[1;33m[\u001b[0m\u001b[1;36m0\u001b[0m\u001b[1;33m]\u001b[0m\u001b[1;33m[\u001b[0m\u001b[1;36m0\u001b[0m\u001b[1;33m:\u001b[0m\u001b[1;36m75\u001b[0m\u001b[1;33m]\u001b[0m\u001b[1;33m)\u001b[0m\u001b[1;33m\u001b[0m\u001b[0m\n",
      "\u001b[0m\n",
      "ipdb> \n",
      "ipdb> \n",
      "ipdb> \n",
      "ipdb> \n",
      "ipdb> \n",
      "ipdb> \n",
      "ipdb> \n",
      "ipdb> \n",
      "ipdb> \n",
      "ipdb> \n",
      "ipdb> \n",
      "ipdb> \n",
      "ipdb> \n",
      "ipdb> \n",
      "ipdb> \n",
      "ipdb> \n",
      "ipdb> \n",
      "ipdb> \n",
      "ipdb> \n",
      "ipdb> \n",
      "ipdb> \n",
      "ipdb> \n",
      "ipdb> \n",
      "ipdb> \n",
      "ipdb> \n",
      "ipdb> \n",
      "ipdb> \n",
      "ipdb> \n",
      "\n",
      "KeyboardInterrupt\n"
     ]
    }
   ],
   "source": [
    "freq = np.fft.fftfreq(15*10, 1./250)\n",
    "plt.plot(freq[0:75],result.values[0][0:75])"
   ]
  },
  {
   "cell_type": "code",
   "execution_count": null,
   "metadata": {
    "collapsed": false
   },
   "outputs": [],
   "source": [
    "X_fft.values[0].shape,filt(np.fft.fftfreq(15*250, 1./250),0.4,50,np.fft.fftfreq(15*250, 1./250)).shape"
   ]
  },
  {
   "cell_type": "code",
   "execution_count": null,
   "metadata": {
    "collapsed": false
   },
   "outputs": [],
   "source": [
    "freq = np.fft.fftfreq(15*250, 1./250)\n",
    "plt.plot(filt(freq,0.4,50,freq),np.abs(X_fft.values[31]))\n",
    "plt.grid()\n",
    "plt.show()"
   ]
  }
 ],
 "metadata": {
  "kernelspec": {
   "display_name": "Python 2",
   "language": "python",
   "name": "python2"
  },
  "language_info": {
   "codemirror_mode": {
    "name": "ipython",
    "version": 2
   },
   "file_extension": ".py",
   "mimetype": "text/x-python",
   "name": "python",
   "nbconvert_exporter": "python",
   "pygments_lexer": "ipython2",
   "version": "2.7.5"
  }
 },
 "nbformat": 4,
 "nbformat_minor": 0
}
