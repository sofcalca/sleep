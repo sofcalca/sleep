{
 "cells": [
  {
   "cell_type": "code",
   "execution_count": 1,
   "metadata": {
    "collapsed": false
   },
   "outputs": [],
   "source": [
    "import pandas as pd\n",
    "#import matplotlib.pyplot as plt\n",
    "#%matplotlib inline\n",
    "#import seaborn as sns; sns.set()\n",
    "import numpy as np\n",
    "\n",
    "from sys import platform as _platform\n",
    "\n",
    "#if _platform =='linux2':\n",
    "#    path = '../data/data_sleep/' \n",
    "#else:\n",
    "    #mets ton path ici et ça devrait marcher :)\n",
    "#    path = \"data\"\n",
    "path=\"data/\"\n",
    "#path = '../data/data_sleep/' \n"
   ]
  },
  {
   "cell_type": "code",
   "execution_count": 2,
   "metadata": {
    "collapsed": false
   },
   "outputs": [],
   "source": [
    "create_test = True\n",
    "if(create_test):\n",
    "    data=pd.read_csv(path+\"input_test.csv\")\n",
    "else: \n",
    "    data=pd.read_csv(path+\"input_train.csv\")\n",
    "    labels=pd.read_csv(path+\"challenge_output_data_training_file_sleep_stages_classification.csv\", sep=\";\")"
   ]
  },
  {
   "cell_type": "code",
   "execution_count": 5,
   "metadata": {
    "collapsed": false
   },
   "outputs": [],
   "source": [
    "data=data.set_index(\"ID\")"
   ]
  },
  {
   "cell_type": "code",
   "execution_count": 6,
   "metadata": {
    "collapsed": true
   },
   "outputs": [],
   "source": [
    "def filt(y,low, high, freq): \n",
    "    filter_array = [i for i,f in enumerate(freq) if f>=low and f<=high]\n",
    "    return np.array([y[i] for i in filter_array])"
   ]
  },
  {
   "cell_type": "code",
   "execution_count": 14,
   "metadata": {
    "collapsed": true
   },
   "outputs": [],
   "source": [
    "import re \n",
    "def make_eeg_features(train, low, high):\n",
    "    fs = 250 # in Hz\n",
    "    N = fs * 15\n",
    "    train_eeg = train.filter(regex='EEG[0-9]*').values\n",
    "    X_fft = np.fft.fft(train_eeg)\n",
    "    freq = np.fft.fftfreq(N, 1./fs)\n",
    "    filtered_freq = filt(freq,low,high,freq)\n",
    "    X_fft = np.apply_along_axis(lambda x: filt(x,low,high,freq), 1 , 1./N * abs(X_fft))\n",
    "    X_fft = pd.DataFrame(X_fft, columns= [\"freq\"+str(f) for f in filtered_freq], index=train.index)\n",
    "    return X_fft"
   ]
  },
  {
   "cell_type": "code",
   "execution_count": 15,
   "metadata": {
    "collapsed": true
   },
   "outputs": [],
   "source": [
    "#X_fft = make_eeg_features(data, 0.4, 50)\n",
    "#if(create_test):\n",
    "#    X_fft.to_csv(\"data/fft_eeg_test.csv\", index=False)\n",
    "#else :\n",
    "#    X_fft.to_csv(\"data/fft_eeg.csv\", index=False)\n"
   ]
  },
  {
   "cell_type": "code",
   "execution_count": 16,
   "metadata": {
    "collapsed": true
   },
   "outputs": [],
   "source": [
    "def make_acc_features(train, low, high):\n",
    "    fs = 10 #in Hz\n",
    "    N = fs * 15 #number of samples\n",
    "    accelaration_names = ['ACC_X.','ACC_Y.','ACC_Z.']\n",
    "    result = []\n",
    "    for name in accelaration_names:\n",
    "        train_eeg = train.filter(regex=name+'[0-9]*').values\n",
    "        X_fft = np.fft.fft(train_eeg)\n",
    "        freq = np.fft.fftfreq(N, 1./fs)\n",
    "        filtered_freq = filt(freq,low,high,freq)\n",
    "        X_fft = np.apply_along_axis(lambda x: filt(x,low,high,freq), 1 , 1./N *abs(X_fft))\n",
    "        X_fft = pd.DataFrame(X_fft, columns= [name+\"freq\"+str(f) for f in filtered_freq])\n",
    "        result.append(X_fft)\n",
    "    return pd.concat(result,axis = 1)"
   ]
  },
  {
   "cell_type": "code",
   "execution_count": 17,
   "metadata": {
    "collapsed": false
   },
   "outputs": [],
   "source": [
    "#fft_acc = make_acc_features(data, 0, 200)\n",
    "#if(create_test):\n",
    "#    fft_acc.to_csv(\"data/fft_acc_test.csv\", index=False)\n",
    "#else:\n",
    "#    fft_acc.to_csv(\"data/fft_acc.csv\", index=False)\n"
   ]
  },
  {
   "cell_type": "code",
   "execution_count": 18,
   "metadata": {
    "collapsed": false
   },
   "outputs": [],
   "source": [
    "def make_features_fft(create_test =False, make_files = True):\n",
    "    #si create_test = False: fait les trucs de train, sinon les trucs de test\n",
    "    #si make_files =True, crée les fichiers dans data\n",
    "    X_fft = make_eeg_features(data, 0.4, 50)\n",
    "    if(make_files):\n",
    "        if(create_test):\n",
    "            X_fft.to_csv(\"data/fft_eeg_test.csv\", index=True)\n",
    "        else :\n",
    "            X_fft.to_csv(\"data/fft_eeg.csv\", index=True)\n",
    "    \n",
    "    fft_acc = make_acc_features(data, 0, 200)\n",
    "    if(make_files):    \n",
    "        if(create_test):\n",
    "            fft_acc.to_csv(\"data/fft_acc_test.csv\", index=True)\n",
    "        else:\n",
    "            fft_acc.to_csv(\"data/fft_acc.csv\", index=True)\n",
    "    return X_fft, fft_acc\n",
    "\n",
    "fft_eeg, fft_acc= make_features_fft(create_test = create_test)"
   ]
  },
  {
   "cell_type": "code",
   "execution_count": 19,
   "metadata": {
    "collapsed": false
   },
   "outputs": [
    {
     "data": {
      "text/html": [
       "<div>\n",
       "<table border=\"1\" class=\"dataframe\">\n",
       "  <thead>\n",
       "    <tr style=\"text-align: right;\">\n",
       "      <th></th>\n",
       "      <th>freq0.4</th>\n",
       "      <th>freq0.466666666667</th>\n",
       "      <th>freq0.533333333333</th>\n",
       "      <th>freq0.6</th>\n",
       "      <th>freq0.666666666667</th>\n",
       "      <th>freq0.733333333333</th>\n",
       "      <th>freq0.8</th>\n",
       "      <th>freq0.866666666667</th>\n",
       "      <th>freq0.933333333333</th>\n",
       "      <th>freq1.0</th>\n",
       "      <th>...</th>\n",
       "      <th>freq49.4</th>\n",
       "      <th>freq49.4666666667</th>\n",
       "      <th>freq49.5333333333</th>\n",
       "      <th>freq49.6</th>\n",
       "      <th>freq49.6666666667</th>\n",
       "      <th>freq49.7333333333</th>\n",
       "      <th>freq49.8</th>\n",
       "      <th>freq49.8666666667</th>\n",
       "      <th>freq49.9333333333</th>\n",
       "      <th>freq50.0</th>\n",
       "    </tr>\n",
       "    <tr>\n",
       "      <th>ID</th>\n",
       "      <th></th>\n",
       "      <th></th>\n",
       "      <th></th>\n",
       "      <th></th>\n",
       "      <th></th>\n",
       "      <th></th>\n",
       "      <th></th>\n",
       "      <th></th>\n",
       "      <th></th>\n",
       "      <th></th>\n",
       "      <th></th>\n",
       "      <th></th>\n",
       "      <th></th>\n",
       "      <th></th>\n",
       "      <th></th>\n",
       "      <th></th>\n",
       "      <th></th>\n",
       "      <th></th>\n",
       "      <th></th>\n",
       "      <th></th>\n",
       "      <th></th>\n",
       "    </tr>\n",
       "  </thead>\n",
       "  <tbody>\n",
       "    <tr>\n",
       "      <th>ID00001</th>\n",
       "      <td>0.369788</td>\n",
       "      <td>0.057286</td>\n",
       "      <td>0.167872</td>\n",
       "      <td>0.541040</td>\n",
       "      <td>0.507652</td>\n",
       "      <td>0.654178</td>\n",
       "      <td>0.195964</td>\n",
       "      <td>0.173139</td>\n",
       "      <td>0.508839</td>\n",
       "      <td>0.398760</td>\n",
       "      <td>...</td>\n",
       "      <td>0.005252</td>\n",
       "      <td>0.008828</td>\n",
       "      <td>0.003025</td>\n",
       "      <td>0.000848</td>\n",
       "      <td>0.001027</td>\n",
       "      <td>0.001472</td>\n",
       "      <td>0.000930</td>\n",
       "      <td>0.001175</td>\n",
       "      <td>0.001289</td>\n",
       "      <td>0.001434</td>\n",
       "    </tr>\n",
       "    <tr>\n",
       "      <th>ID00002</th>\n",
       "      <td>2.103583</td>\n",
       "      <td>2.591920</td>\n",
       "      <td>2.237481</td>\n",
       "      <td>0.604488</td>\n",
       "      <td>3.185015</td>\n",
       "      <td>3.908599</td>\n",
       "      <td>4.287624</td>\n",
       "      <td>1.953263</td>\n",
       "      <td>2.170488</td>\n",
       "      <td>2.198010</td>\n",
       "      <td>...</td>\n",
       "      <td>0.009806</td>\n",
       "      <td>0.026986</td>\n",
       "      <td>0.023334</td>\n",
       "      <td>0.001033</td>\n",
       "      <td>0.005210</td>\n",
       "      <td>0.005055</td>\n",
       "      <td>0.002548</td>\n",
       "      <td>0.003436</td>\n",
       "      <td>0.003959</td>\n",
       "      <td>0.004286</td>\n",
       "    </tr>\n",
       "    <tr>\n",
       "      <th>ID00003</th>\n",
       "      <td>0.429960</td>\n",
       "      <td>1.027026</td>\n",
       "      <td>0.967975</td>\n",
       "      <td>0.929622</td>\n",
       "      <td>0.535382</td>\n",
       "      <td>0.089322</td>\n",
       "      <td>0.614258</td>\n",
       "      <td>0.248686</td>\n",
       "      <td>0.836322</td>\n",
       "      <td>1.321965</td>\n",
       "      <td>...</td>\n",
       "      <td>0.015784</td>\n",
       "      <td>0.040056</td>\n",
       "      <td>0.019005</td>\n",
       "      <td>0.003932</td>\n",
       "      <td>0.010476</td>\n",
       "      <td>0.006010</td>\n",
       "      <td>0.005508</td>\n",
       "      <td>0.005047</td>\n",
       "      <td>0.005222</td>\n",
       "      <td>0.006066</td>\n",
       "    </tr>\n",
       "    <tr>\n",
       "      <th>ID00004</th>\n",
       "      <td>0.474867</td>\n",
       "      <td>1.225553</td>\n",
       "      <td>0.351758</td>\n",
       "      <td>0.186687</td>\n",
       "      <td>1.514145</td>\n",
       "      <td>1.029752</td>\n",
       "      <td>1.490744</td>\n",
       "      <td>0.819839</td>\n",
       "      <td>0.711146</td>\n",
       "      <td>0.927825</td>\n",
       "      <td>...</td>\n",
       "      <td>0.066837</td>\n",
       "      <td>0.013014</td>\n",
       "      <td>0.005082</td>\n",
       "      <td>0.026141</td>\n",
       "      <td>0.008572</td>\n",
       "      <td>0.007097</td>\n",
       "      <td>0.004240</td>\n",
       "      <td>0.005685</td>\n",
       "      <td>0.004562</td>\n",
       "      <td>0.004746</td>\n",
       "    </tr>\n",
       "    <tr>\n",
       "      <th>ID00005</th>\n",
       "      <td>6.532762</td>\n",
       "      <td>5.896757</td>\n",
       "      <td>8.322209</td>\n",
       "      <td>7.980773</td>\n",
       "      <td>5.871436</td>\n",
       "      <td>5.003608</td>\n",
       "      <td>2.261613</td>\n",
       "      <td>3.247045</td>\n",
       "      <td>4.272142</td>\n",
       "      <td>2.452262</td>\n",
       "      <td>...</td>\n",
       "      <td>0.023186</td>\n",
       "      <td>0.056814</td>\n",
       "      <td>0.005277</td>\n",
       "      <td>0.004190</td>\n",
       "      <td>0.014972</td>\n",
       "      <td>0.012582</td>\n",
       "      <td>0.009623</td>\n",
       "      <td>0.010150</td>\n",
       "      <td>0.009800</td>\n",
       "      <td>0.009330</td>\n",
       "    </tr>\n",
       "  </tbody>\n",
       "</table>\n",
       "<p>5 rows × 745 columns</p>\n",
       "</div>"
      ],
      "text/plain": [
       "          freq0.4  freq0.466666666667  freq0.533333333333   freq0.6  \\\n",
       "ID                                                                    \n",
       "ID00001  0.369788            0.057286            0.167872  0.541040   \n",
       "ID00002  2.103583            2.591920            2.237481  0.604488   \n",
       "ID00003  0.429960            1.027026            0.967975  0.929622   \n",
       "ID00004  0.474867            1.225553            0.351758  0.186687   \n",
       "ID00005  6.532762            5.896757            8.322209  7.980773   \n",
       "\n",
       "         freq0.666666666667  freq0.733333333333   freq0.8  freq0.866666666667  \\\n",
       "ID                                                                              \n",
       "ID00001            0.507652            0.654178  0.195964            0.173139   \n",
       "ID00002            3.185015            3.908599  4.287624            1.953263   \n",
       "ID00003            0.535382            0.089322  0.614258            0.248686   \n",
       "ID00004            1.514145            1.029752  1.490744            0.819839   \n",
       "ID00005            5.871436            5.003608  2.261613            3.247045   \n",
       "\n",
       "         freq0.933333333333   freq1.0    ...     freq49.4  freq49.4666666667  \\\n",
       "ID                                       ...                                   \n",
       "ID00001            0.508839  0.398760    ...     0.005252           0.008828   \n",
       "ID00002            2.170488  2.198010    ...     0.009806           0.026986   \n",
       "ID00003            0.836322  1.321965    ...     0.015784           0.040056   \n",
       "ID00004            0.711146  0.927825    ...     0.066837           0.013014   \n",
       "ID00005            4.272142  2.452262    ...     0.023186           0.056814   \n",
       "\n",
       "         freq49.5333333333  freq49.6  freq49.6666666667  freq49.7333333333  \\\n",
       "ID                                                                           \n",
       "ID00001           0.003025  0.000848           0.001027           0.001472   \n",
       "ID00002           0.023334  0.001033           0.005210           0.005055   \n",
       "ID00003           0.019005  0.003932           0.010476           0.006010   \n",
       "ID00004           0.005082  0.026141           0.008572           0.007097   \n",
       "ID00005           0.005277  0.004190           0.014972           0.012582   \n",
       "\n",
       "         freq49.8  freq49.8666666667  freq49.9333333333  freq50.0  \n",
       "ID                                                                 \n",
       "ID00001  0.000930           0.001175           0.001289  0.001434  \n",
       "ID00002  0.002548           0.003436           0.003959  0.004286  \n",
       "ID00003  0.005508           0.005047           0.005222  0.006066  \n",
       "ID00004  0.004240           0.005685           0.004562  0.004746  \n",
       "ID00005  0.009623           0.010150           0.009800  0.009330  \n",
       "\n",
       "[5 rows x 745 columns]"
      ]
     },
     "execution_count": 19,
     "metadata": {},
     "output_type": "execute_result"
    }
   ],
   "source": [
    "fft_eeg.head()"
   ]
  },
  {
   "cell_type": "code",
   "execution_count": 20,
   "metadata": {
    "collapsed": true
   },
   "outputs": [],
   "source": [
    "def count_by_zero(array):\n",
    "    \"\"\"\n",
    "    Counts the number of times the signal crosses through zero\n",
    "    \"\"\"\n",
    "    counts = 0\n",
    "    for i in range(0, len(array)-1):\n",
    "        if np.sign(array[i]) != np.sign(array[i+1]):\n",
    "            counts+=1\n",
    "    return counts"
   ]
  },
  {
   "cell_type": "code",
   "execution_count": 21,
   "metadata": {
    "collapsed": true
   },
   "outputs": [],
   "source": [
    "def make_signal_dic(data):\n",
    "    \"\"\"\n",
    "    Takes train or test data and creates a dictionary separating each signal\n",
    "    \"\"\"\n",
    "    signals = [\"EEG\", \"ACC_X\", \"ACC_Y\", \"ACC_Z\"]\n",
    "    return {signal: data.filter(regex= \"^\"+signal+\".*\") \n",
    "                for signal in signals\n",
    "    }"
   ]
  },
  {
   "cell_type": "code",
   "execution_count": 22,
   "metadata": {
    "collapsed": false
   },
   "outputs": [],
   "source": [
    "def create_stat_features(signal, signal_name):\n",
    "    \"\"\"\n",
    "    Inputs a signal, outputs some important statistics information about it\n",
    "    \"\"\"\n",
    "\n",
    "    quantiles = signal.quantile(np.linspace(0,1,11), axis=1).T\n",
    "    quantiles.columns = [\"{}_quantile_{}\".format(signal_name, q) for q in range(0,110,10)]\n",
    "    \n",
    "    moments = pd.concat(\n",
    "        [signal.mean(axis=1), signal.var(axis=1), signal.skew(axis=1), signal.kurt(axis=1)], \n",
    "        axis=1\n",
    "    )\n",
    "    moments.columns= [name.format(signal_name) for name in [\"mean_{}\", \"var_{}\", \"skew_{}\", \"kurt_{}\"]]\n",
    "    \n",
    "    return pd.concat([quantiles, moments], axis=1)"
   ]
  },
  {
   "cell_type": "code",
   "execution_count": 23,
   "metadata": {
    "collapsed": true
   },
   "outputs": [],
   "source": [
    "signals = make_signal_dic(data)"
   ]
  },
  {
   "cell_type": "code",
   "execution_count": 24,
   "metadata": {
    "collapsed": false
   },
   "outputs": [],
   "source": [
    "def make_stats(create_test =False, make_files = True):\n",
    "    \"takes the dict of signals and returns descriptive stats for EEG and ACC\"\n",
    "    stats = {\n",
    "        signal: create_stat_features(signals[signal], signal)\n",
    "        for signal in signals.keys()\n",
    "    }\n",
    "    stats_EEG = pd.concat(\n",
    "        [\n",
    "            stats[\"EEG\"], \n",
    "            pd.Series(signals[\"EEG\"].apply(count_by_zero, axis=1), name=\"EEG_through_0\")\n",
    "        ],\n",
    "        axis=1\n",
    "        )\n",
    "    if make_files:\n",
    "        if create_test:\n",
    "            stats_EEG.to_csv(\"data/stats_eeg_test.csv\", index=False)\n",
    "        else:\n",
    "            stats_EEG.to_csv(\"data/stats_eeg.csv\", index=False)\n",
    "    stats_ACC = pd.concat([stats[\"ACC_{}\".format(dim)] for dim in [\"X\", \"Y\", \"Z\"]], axis=1)\n",
    "    if make_files:\n",
    "        if create_test:\n",
    "            stats_ACC.to_csv(\"data/stats_acc_test.csv\", index=False)\n",
    "        else:\n",
    "            stats_ACC.to_csv(\"data/stats_acc.csv\", index=False)\n",
    "    return stats_EEG, stats_ACC"
   ]
  },
  {
   "cell_type": "code",
   "execution_count": null,
   "metadata": {
    "collapsed": false
   },
   "outputs": [],
   "source": [
    "stats_EEG, stats_ACC=make_stats(create_test =create_test, make_files = True)"
   ]
  },
  {
   "cell_type": "code",
   "execution_count": null,
   "metadata": {
    "collapsed": true
   },
   "outputs": [],
   "source": [
    "def consolidated_amplitude_accelometer(fft_acc):\n",
    "    \"\"\"\n",
    "    Takes the FFT of the accelerometer for each dimension. Returns the L2 norm of the amplitudes for each sequence\n",
    "    \"\"\"\n",
    "    power_by_dimension = {dim: pd.DataFrame() for dim in [\"X\", \"Y\", \"Z\"]}\n",
    "    #go through every column\n",
    "    for col in fft_acc.columns:\n",
    "        #check which dimension it is related to\n",
    "        if col[4]==\"X\":\n",
    "            #squared of the amplitude for each frequency\n",
    "            power_by_dimension[\"X\"][\"{}\".format(col[6:])]=fft_acc[col]**2 \n",
    "        elif col[4]==\"Y\":\n",
    "            power_by_dimension[\"Y\"][\"{}\".format(col[6:])]=fft_acc[col]**2\n",
    "        elif col[4]==\"Z\":\n",
    "            power_by_dimension[\"Z\"][\"{}\".format(col[6:])]=fft_acc[col]**2\n",
    "    return np.sqrt(power_by_dimension[\"X\"] + power_by_dimension[\"Y\"] + power_by_dimension[\"Z\"])"
   ]
  },
  {
   "cell_type": "code",
   "execution_count": null,
   "metadata": {
    "collapsed": true
   },
   "outputs": [],
   "source": [
    "def speed_accelerometer(dict_accelerometer):\n",
    "    \"\"\"\n",
    "    Takes a dictionary with dataframes for each dimension of the accelerometer. Returns consolidated features \n",
    "    (Speed and 1D amplitude)\n",
    "    \"\"\"\n",
    "    #Integral of the acceleration = speed\n",
    "    return np.sqrt( #sqrt of the\n",
    "        sum( #sum over\n",
    "            [\n",
    "                dict_accelerometer[\"ACC_{}\".format(dim)].sum(axis=1)**2 \n",
    "                #squared integral of the acceleration\n",
    "                for dim in [\"X\", \"Y\", \"Z\"] #for each dimension\n",
    "            ]\n",
    "        ) \n",
    "        \n",
    "    )"
   ]
  },
  {
   "cell_type": "code",
   "execution_count": null,
   "metadata": {
    "collapsed": true
   },
   "outputs": [],
   "source": [
    "def make_features_accelerometer(create_test =False, make_files = True):\n",
    "    ACC_feats = pd.concat(\n",
    "        [\n",
    "            consolidated_amplitude_accelometer(fft_acc), \n",
    "            pd.Series(speed_accelerometer(signals), name=\"SPEED\")\n",
    "        ],\n",
    "        axis=1\n",
    "        )\n",
    "    if make_files:\n",
    "        if create_test:\n",
    "            ACC_feats.to_csv(\"data/ACC_feats_test.csv\", index=False)\n",
    "        else:\n",
    "            ACC_feats.to_csv(\"data/ACC_feats.csv\", index=False)\n",
    "    return ACC_feats"
   ]
  },
  {
   "cell_type": "code",
   "execution_count": 20,
   "metadata": {
    "collapsed": false
   },
   "outputs": [
    {
     "name": "stdout",
     "output_type": "stream",
     "text": [
      "Automatic pdb calling has been turned ON\n"
     ]
    }
   ],
   "source": [
    "%pdb"
   ]
  },
  {
   "cell_type": "code",
   "execution_count": null,
   "metadata": {
    "collapsed": false
   },
   "outputs": [],
   "source": [
    "ACC_feats=make_features_accelerometer(create_test =create_test)"
   ]
  },
  {
   "cell_type": "code",
   "execution_count": 20,
   "metadata": {
    "collapsed": false
   },
   "outputs": [
    {
     "ename": "NameError",
     "evalue": "name 'plt' is not defined",
     "output_type": "error",
     "traceback": [
      "\u001b[1;31m---------------------------------------------------------------------------\u001b[0m",
      "\u001b[1;31mNameError\u001b[0m                                 Traceback (most recent call last)",
      "\u001b[1;32m<ipython-input-20-75b17ae07f05>\u001b[0m in \u001b[0;36m<module>\u001b[1;34m()\u001b[0m\n\u001b[0;32m      1\u001b[0m \u001b[0mfreq\u001b[0m \u001b[1;33m=\u001b[0m \u001b[0mnp\u001b[0m\u001b[1;33m.\u001b[0m\u001b[0mfft\u001b[0m\u001b[1;33m.\u001b[0m\u001b[0mfftfreq\u001b[0m\u001b[1;33m(\u001b[0m\u001b[1;36m15\u001b[0m\u001b[1;33m*\u001b[0m\u001b[1;36m10\u001b[0m\u001b[1;33m,\u001b[0m \u001b[1;36m1.\u001b[0m\u001b[1;33m/\u001b[0m\u001b[1;36m250\u001b[0m\u001b[1;33m)\u001b[0m\u001b[1;33m\u001b[0m\u001b[0m\n\u001b[1;32m----> 2\u001b[1;33m \u001b[0mplt\u001b[0m\u001b[1;33m.\u001b[0m\u001b[0mplot\u001b[0m\u001b[1;33m(\u001b[0m\u001b[0mfreq\u001b[0m\u001b[1;33m[\u001b[0m\u001b[1;36m0\u001b[0m\u001b[1;33m:\u001b[0m\u001b[1;36m75\u001b[0m\u001b[1;33m]\u001b[0m\u001b[1;33m,\u001b[0m\u001b[0mresult\u001b[0m\u001b[1;33m.\u001b[0m\u001b[0mvalues\u001b[0m\u001b[1;33m[\u001b[0m\u001b[1;36m0\u001b[0m\u001b[1;33m]\u001b[0m\u001b[1;33m[\u001b[0m\u001b[1;36m0\u001b[0m\u001b[1;33m:\u001b[0m\u001b[1;36m75\u001b[0m\u001b[1;33m]\u001b[0m\u001b[1;33m)\u001b[0m\u001b[1;33m\u001b[0m\u001b[0m\n\u001b[0m",
      "\u001b[1;31mNameError\u001b[0m: name 'plt' is not defined"
     ]
    },
    {
     "name": "stdout",
     "output_type": "stream",
     "text": [
      "> \u001b[1;32m<ipython-input-20-75b17ae07f05>\u001b[0m(2)\u001b[0;36m<module>\u001b[1;34m()\u001b[0m\n",
      "\u001b[1;32m      1 \u001b[1;33m\u001b[0mfreq\u001b[0m \u001b[1;33m=\u001b[0m \u001b[0mnp\u001b[0m\u001b[1;33m.\u001b[0m\u001b[0mfft\u001b[0m\u001b[1;33m.\u001b[0m\u001b[0mfftfreq\u001b[0m\u001b[1;33m(\u001b[0m\u001b[1;36m15\u001b[0m\u001b[1;33m*\u001b[0m\u001b[1;36m10\u001b[0m\u001b[1;33m,\u001b[0m \u001b[1;36m1.\u001b[0m\u001b[1;33m/\u001b[0m\u001b[1;36m250\u001b[0m\u001b[1;33m)\u001b[0m\u001b[1;33m\u001b[0m\u001b[0m\n",
      "\u001b[0m\u001b[1;32m----> 2 \u001b[1;33m\u001b[0mplt\u001b[0m\u001b[1;33m.\u001b[0m\u001b[0mplot\u001b[0m\u001b[1;33m(\u001b[0m\u001b[0mfreq\u001b[0m\u001b[1;33m[\u001b[0m\u001b[1;36m0\u001b[0m\u001b[1;33m:\u001b[0m\u001b[1;36m75\u001b[0m\u001b[1;33m]\u001b[0m\u001b[1;33m,\u001b[0m\u001b[0mresult\u001b[0m\u001b[1;33m.\u001b[0m\u001b[0mvalues\u001b[0m\u001b[1;33m[\u001b[0m\u001b[1;36m0\u001b[0m\u001b[1;33m]\u001b[0m\u001b[1;33m[\u001b[0m\u001b[1;36m0\u001b[0m\u001b[1;33m:\u001b[0m\u001b[1;36m75\u001b[0m\u001b[1;33m]\u001b[0m\u001b[1;33m)\u001b[0m\u001b[1;33m\u001b[0m\u001b[0m\n",
      "\u001b[0m\n",
      "ipdb> \n",
      "ipdb> \n",
      "ipdb> \n",
      "ipdb> \n",
      "ipdb> \n",
      "ipdb> \n",
      "ipdb> \n",
      "ipdb> \n",
      "ipdb> \n",
      "ipdb> \n",
      "ipdb> \n",
      "ipdb> \n",
      "ipdb> \n",
      "ipdb> \n",
      "ipdb> \n",
      "ipdb> \n",
      "ipdb> \n",
      "ipdb> \n",
      "ipdb> \n",
      "ipdb> \n",
      "ipdb> \n",
      "ipdb> \n",
      "ipdb> \n",
      "ipdb> \n",
      "ipdb> \n",
      "ipdb> \n",
      "ipdb> \n",
      "ipdb> \n",
      "\n",
      "KeyboardInterrupt\n"
     ]
    }
   ],
   "source": [
    "freq = np.fft.fftfreq(15*10, 1./250)\n",
    "plt.plot(freq[0:75],result.values[0][0:75])"
   ]
  },
  {
   "cell_type": "code",
   "execution_count": null,
   "metadata": {
    "collapsed": false
   },
   "outputs": [],
   "source": [
    "X_fft.values[0].shape,filt(np.fft.fftfreq(15*250, 1./250),0.4,50,np.fft.fftfreq(15*250, 1./250)).shape"
   ]
  },
  {
   "cell_type": "code",
   "execution_count": null,
   "metadata": {
    "collapsed": false
   },
   "outputs": [],
   "source": [
    "freq = np.fft.fftfreq(15*250, 1./250)\n",
    "plt.plot(filt(freq,0.4,50,freq),np.abs(X_fft.values[31]))\n",
    "plt.grid()\n",
    "plt.show()"
   ]
  }
 ],
 "metadata": {
  "kernelspec": {
   "display_name": "Python 2",
   "language": "python",
   "name": "python2"
  },
  "language_info": {
   "codemirror_mode": {
    "name": "ipython",
    "version": 2
   },
   "file_extension": ".py",
   "mimetype": "text/x-python",
   "name": "python",
   "nbconvert_exporter": "python",
   "pygments_lexer": "ipython2",
   "version": "2.7.5"
  }
 },
 "nbformat": 4,
 "nbformat_minor": 0
}
