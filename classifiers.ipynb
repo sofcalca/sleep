{
 "cells": [
  {
   "cell_type": "code",
   "execution_count": 41,
   "metadata": {
    "collapsed": false
   },
   "outputs": [],
   "source": [
    "from sys import platform as _platform\n",
    "%matplotlib inline\n",
    "import numpy as np\n",
    "import pandas as pd\n",
    "import matplotlib.pyplot as plt\n",
    "pd.set_option('display.max_columns', None)\n",
    "#if _platform =='linux2':\n",
    "#    path = '../data/data_sleep/' \n",
    "#else:\n",
    "#    #mets ton path ici et ça devrait marcher :)\n",
    "#    path = \"\"\n",
    "path = \"./data/\""
   ]
  },
  {
   "cell_type": "code",
   "execution_count": 3,
   "metadata": {
    "collapsed": false
   },
   "outputs": [],
   "source": [
    "train=pd.read_csv(path+\"data_frequences.csv\")\n",
    "labels=pd.read_csv(path+\"challenge_output_data_training_file_sleep_stages_classification.csv\", sep=\";\")"
   ]
  },
  {
   "cell_type": "code",
   "execution_count": 43,
   "metadata": {
    "collapsed": false
   },
   "outputs": [],
   "source": [
    "from sklearn.cross_validation import train_test_split\n",
    "X_columns = train.columns\n",
    "X_train, X_test, y_train, y_test = train_test_split(\n",
    "    train, labels[\"TARGET\"], test_size=0.2, random_state=0)"
   ]
  },
  {
   "cell_type": "code",
   "execution_count": 61,
   "metadata": {
    "collapsed": false
   },
   "outputs": [
    {
     "name": "stdout",
     "output_type": "stream",
     "text": [
      "0.812289163136\n",
      "('Score on train data : ', 0.67903465445930211)\n"
     ]
    }
   ],
   "source": [
    "from sklearn.linear_model import SGDClassifier\n",
    "sgd = SGDClassifier(shuffle = True, loss = 'hinge', n_iter= 150, penalty = \"l2\")\n",
    "sgd.fit(X_train, y_train)\n",
    "print accuracy_score(sgd.predict(X_test),y_test)\n",
    "print(\"Score on train data : \", accuracy_score(y_train, sgd.predict(X_train)))"
   ]
  },
  {
   "cell_type": "code",
   "execution_count": 58,
   "metadata": {
    "collapsed": false
   },
   "outputs": [
    {
     "name": "stdout",
     "output_type": "stream",
     "text": [
      "('MNB', '- Best alpha & associated score', {'alpha': 9.9999999999999995e-07}, 0.51242822149941769)\n",
      "('Score on test_data : ', 0.51814969482814011)\n"
     ]
    }
   ],
   "source": [
    "from sklearn.naive_bayes import MultinomialNB\n",
    "from sklearn.grid_search import GridSearchCV \n",
    "from sklearn.metrics import accuracy_score\n",
    "\n",
    "alphas = np.logspace(-6, 0, 20)\n",
    "\n",
    "mnb =  GridSearchCV(MultinomialNB(), dict(alpha=alphas), cv=10, n_jobs = 3).fit(X_train, y_train)\n",
    "print(\"MNB\", \"- Best alpha & associated score\", mnb.best_params_, mnb.best_score_)\n",
    "print(\"Score on test_data : \", accuracy_score(y_test, mnb.predict(X_test)))"
   ]
  },
  {
   "cell_type": "code",
   "execution_count": 51,
   "metadata": {
    "collapsed": false
   },
   "outputs": [
    {
     "name": "stdout",
     "output_type": "stream",
     "text": [
      "Score on test data :  0.518149694828\n",
      "('Score on train data : ', 0.51058105449142677)\n"
     ]
    }
   ],
   "source": [
    "mnb.fit(X_train, y_train)\n",
    "from sklearn.metrics import accuracy_score\n",
    "print \"Score on test data : \",accuracy_score(mnb.predict(X_test),y_test)\n",
    "print(\"Score on train data : \", accuracy_score(y_train, mnb.predict(X_train)))"
   ]
  },
  {
   "cell_type": "code",
   "execution_count": 52,
   "metadata": {
    "collapsed": false
   },
   "outputs": [
    {
     "name": "stdout",
     "output_type": "stream",
     "text": [
      "('Random Forest - Score on test_data : ', 0.72614840989399299)\n",
      "('Random Forest - Score on train data : ', 1.0)\n"
     ]
    }
   ],
   "source": [
    "from sklearn.ensemble import RandomForestClassifier\n",
    "\n",
    "rf = RandomForestClassifier(random_state=1, n_estimators=100, max_depth= 60)\n",
    "rf.fit(X_train, y_train)\n",
    "predicted_label = rf.predict(X_test)\n",
    "\n",
    "print(\"Random Forest - Score on test_data : \", accuracy_score(y_test, predicted_label))\n",
    "print(\"Random Forest - Score on train data : \", accuracy_score(y_train, rf.predict(X_train)))"
   ]
  },
  {
   "cell_type": "code",
   "execution_count": null,
   "metadata": {
    "collapsed": false
   },
   "outputs": [
    {
     "name": "stdout",
     "output_type": "stream",
     "text": [
      "('Random Forest - kappa Score on test_data : ', 0.54882147427922845)\n",
      "('Random Forest - kappa Score on train data : ', 0.9946599307775783)\n"
     ]
    }
   ],
   "source": [
    "from sklearn.ensemble import RandomForestClassifier\n",
    "from sklearn.metrics import cohen_kappa_score\n",
    "rf = RandomForestClassifier(random_state=1, n_estimators=100, max_depth= 20)\n",
    "rf.fit(X_train, y_train)\n",
    "predicted_label = rf.predict(X_test)\n",
    "\n",
    "print(\"Random Forest - kappa Score on test_data : \", cohen_kappa_score(y_test, predicted_label))\n",
    "print(\"Random Forest - kappa Score on train data : \", cohen_kappa_score(y_train, rf.predict(X_train)))"
   ]
  },
  {
   "cell_type": "code",
   "execution_count": 39,
   "metadata": {
    "collapsed": false
   },
   "outputs": [
    {
     "name": "stdout",
     "output_type": "stream",
     "text": [
      "log RMSE: 0.7199 +/-0.0027\n"
     ]
    }
   ],
   "source": [
    "scores = cross_val_score(rf, X_train, y_train, cv=5, scoring=\"accuracy\",n_jobs=3)\n",
    "print(\"log RMSE: {:.4f} +/-{:.4f}\".format(\n",
    "    np.mean(scores), np.std(scores)))"
   ]
  },
  {
   "cell_type": "code",
   "execution_count": null,
   "metadata": {
    "collapsed": true
   },
   "outputs": [],
   "source": [
    "from sklearn.ensemble import GradientBoostingClassifier\n",
    "from sklearn.metrics import cohen_kappa_score\n",
    "gb = GradientBoostingClassifier(random_state=1, n_estimators=100)\n",
    "gb.fit(X_train, y_train)\n",
    "predicted_label = gb.predict(X_test)\n",
    "\n",
    "print(\"Random Forest - kappa Score on test_data : \", cohen_kappa_score(y_test, predicted_label))\n",
    "print(\"Random Forest - kappa Score on train data : \", cohen_kappa_score(y_train, gb.predict(X_train)))"
   ]
  },
  {
   "cell_type": "code",
   "execution_count": 44,
   "metadata": {
    "collapsed": false
   },
   "outputs": [
    {
     "data": {
      "image/png": "[encoded data removed]",
      "text/plain": [
       "<matplotlib.figure.Figure at 0x7f4ab4293fd0>"
      ]
     },
     "metadata": {},
     "output_type": "display_data"
    }
   ],
   "source": [
    "plt.figure(figsize=(15, 5))\n",
    "\n",
    "ordering = np.argsort(rf.feature_importances_)[::-1][:50]\n",
    "\n",
    "importances = rf.feature_importances_[ordering]\n",
    "feature_names = X_columns[ordering]\n",
    "\n",
    "x = np.arange(len(feature_names))\n",
    "plt.bar(x, importances)\n",
    "plt.xticks(x + 0.5, feature_names, rotation=90, fontsize=15);"
   ]
  },
  {
   "cell_type": "code",
   "execution_count": null,
   "metadata": {
    "collapsed": true
   },
   "outputs": [],
   "source": []
  }
 ],
 "metadata": {
  "kernelspec": {
   "display_name": "Python 2",
   "language": "python",
   "name": "python2"
  },
  "language_info": {
   "codemirror_mode": {
    "name": "ipython",
    "version": 2
   },
   "file_extension": ".py",
   "mimetype": "text/x-python",
   "name": "python",
   "nbconvert_exporter": "python",
   "pygments_lexer": "ipython2",
   "version": "2.7.11"
  }
 },
 "nbformat": 4,
 "nbformat_minor": 0
}
